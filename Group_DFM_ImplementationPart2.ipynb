{
 "cells": [
  {
   "cell_type": "markdown",
   "metadata": {
    "id": "A9Ig6mAJ1j0l"
   },
   "source": [
    "# **ECON3203 - Group DFM - Implementation File Part 2**\n",
    "\n",
    "<font color = purple> Faiyam Islam (z5258151) </font> \n",
    "\n",
    "<font color = purple> Mimi Nguyen (z5260968) </font>\n",
    "\n",
    "<font color = purple> Dharani Palanisamy (z5260276) </font>\n",
    "\n",
    "<font color = purple> Dharshini Loganathan (z5309765) </font>"
   ]
  },
  {
   "cell_type": "markdown",
   "metadata": {
    "id": "EVYnB35c1pIe"
   },
   "source": [
    "This implementation file contains: \n",
    "\n",
    "1. K-Nearest Neighbours Algorithm\n",
    "2. Neural Networks and Deep Learning\n",
    "\n",
    "Due to the time-consumption of KNN and Neural Networks, we have decided to implement those methods on this file. \n",
    "\n",
    "The test_error can be found at the bottom of this notebook. The final chosen for our group is the deep learning (neural networks) model. "
   ]
  },
  {
   "cell_type": "markdown",
   "metadata": {
    "id": "MigkiO6V2GWT"
   },
   "source": [
    "# **K-Nearest Neighbours Algorithm**\n"
   ]
  },
  {
   "cell_type": "markdown",
   "metadata": {
    "id": "swegjQYJ7MUT"
   },
   "source": [
    "The KNN method has been implemented here as a supervised learning algorithm to be used for regression problems. Various test errors have been achieved here, the lowest will be selected. "
   ]
  },
  {
   "cell_type": "code",
   "execution_count": 1,
   "metadata": {
    "colab": {
     "base_uri": "https://localhost:8080/",
     "height": 140,
     "resources": {
      "http://localhost:8080/nbextensions/google.colab/files.js": {
       "data": "Ly8gQ29weXJpZ2h0IDIwMTcgR29vZ2xlIExMQwovLwovLyBMaWNlbnNlZCB1bmRlciB0aGUgQXBhY2hlIExpY2Vuc2UsIFZlcnNpb24gMi4wICh0aGUgIkxpY2Vuc2UiKTsKLy8geW91IG1heSBub3QgdXNlIHRoaXMgZmlsZSBleGNlcHQgaW4gY29tcGxpYW5jZSB3aXRoIHRoZSBMaWNlbnNlLgovLyBZb3UgbWF5IG9idGFpbiBhIGNvcHkgb2YgdGhlIExpY2Vuc2UgYXQKLy8KLy8gICAgICBodHRwOi8vd3d3LmFwYWNoZS5vcmcvbGljZW5zZXMvTElDRU5TRS0yLjAKLy8KLy8gVW5sZXNzIHJlcXVpcmVkIGJ5IGFwcGxpY2FibGUgbGF3IG9yIGFncmVlZCB0byBpbiB3cml0aW5nLCBzb2Z0d2FyZQovLyBkaXN0cmlidXRlZCB1bmRlciB0aGUgTGljZW5zZSBpcyBkaXN0cmlidXRlZCBvbiBhbiAiQVMgSVMiIEJBU0lTLAovLyBXSVRIT1VUIFdBUlJBTlRJRVMgT1IgQ09ORElUSU9OUyBPRiBBTlkgS0lORCwgZWl0aGVyIGV4cHJlc3Mgb3IgaW1wbGllZC4KLy8gU2VlIHRoZSBMaWNlbnNlIGZvciB0aGUgc3BlY2lmaWMgbGFuZ3VhZ2UgZ292ZXJuaW5nIHBlcm1pc3Npb25zIGFuZAovLyBsaW1pdGF0aW9ucyB1bmRlciB0aGUgTGljZW5zZS4KCi8qKgogKiBAZmlsZW92ZXJ2aWV3IEhlbHBlcnMgZm9yIGdvb2dsZS5jb2xhYiBQeXRob24gbW9kdWxlLgogKi8KKGZ1bmN0aW9uKHNjb3BlKSB7CmZ1bmN0aW9uIHNwYW4odGV4dCwgc3R5bGVBdHRyaWJ1dGVzID0ge30pIHsKICBjb25zdCBlbGVtZW50ID0gZG9jdW1lbnQuY3JlYXRlRWxlbWVudCgnc3BhbicpOwogIGVsZW1lbnQudGV4dENvbnRlbnQgPSB0ZXh0OwogIGZvciAoY29uc3Qga2V5IG9mIE9iamVjdC5rZXlzKHN0eWxlQXR0cmlidXRlcykpIHsKICAgIGVsZW1lbnQuc3R5bGVba2V5XSA9IHN0eWxlQXR0cmlidXRlc1trZXldOwogIH0KICByZXR1cm4gZWxlbWVudDsKfQoKLy8gTWF4IG51bWJlciBvZiBieXRlcyB3aGljaCB3aWxsIGJlIHVwbG9hZGVkIGF0IGEgdGltZS4KY29uc3QgTUFYX1BBWUxPQURfU0laRSA9IDEwMCAqIDEwMjQ7CgpmdW5jdGlvbiBfdXBsb2FkRmlsZXMoaW5wdXRJZCwgb3V0cHV0SWQpIHsKICBjb25zdCBzdGVwcyA9IHVwbG9hZEZpbGVzU3RlcChpbnB1dElkLCBvdXRwdXRJZCk7CiAgY29uc3Qgb3V0cHV0RWxlbWVudCA9IGRvY3VtZW50LmdldEVsZW1lbnRCeUlkKG91dHB1dElkKTsKICAvLyBDYWNoZSBzdGVwcyBvbiB0aGUgb3V0cHV0RWxlbWVudCB0byBtYWtlIGl0IGF2YWlsYWJsZSBmb3IgdGhlIG5leHQgY2FsbAogIC8vIHRvIHVwbG9hZEZpbGVzQ29udGludWUgZnJvbSBQeXRob24uCiAgb3V0cHV0RWxlbWVudC5zdGVwcyA9IHN0ZXBzOwoKICByZXR1cm4gX3VwbG9hZEZpbGVzQ29udGludWUob3V0cHV0SWQpOwp9CgovLyBUaGlzIGlzIHJvdWdobHkgYW4gYXN5bmMgZ2VuZXJhdG9yIChub3Qgc3VwcG9ydGVkIGluIHRoZSBicm93c2VyIHlldCksCi8vIHdoZXJlIHRoZXJlIGFyZSBtdWx0aXBsZSBhc3luY2hyb25vdXMgc3RlcHMgYW5kIHRoZSBQeXRob24gc2lkZSBpcyBnb2luZwovLyB0byBwb2xsIGZvciBjb21wbGV0aW9uIG9mIGVhY2ggc3RlcC4KLy8gVGhpcyB1c2VzIGEgUHJvbWlzZSB0byBibG9jayB0aGUgcHl0aG9uIHNpZGUgb24gY29tcGxldGlvbiBvZiBlYWNoIHN0ZXAsCi8vIHRoZW4gcGFzc2VzIHRoZSByZXN1bHQgb2YgdGhlIHByZXZpb3VzIHN0ZXAgYXMgdGhlIGlucHV0IHRvIHRoZSBuZXh0IHN0ZXAuCmZ1bmN0aW9uIF91cGxvYWRGaWxlc0NvbnRpbnVlKG91dHB1dElkKSB7CiAgY29uc3Qgb3V0cHV0RWxlbWVudCA9IGRvY3VtZW50LmdldEVsZW1lbnRCeUlkKG91dHB1dElkKTsKICBjb25zdCBzdGVwcyA9IG91dHB1dEVsZW1lbnQuc3RlcHM7CgogIGNvbnN0IG5leHQgPSBzdGVwcy5uZXh0KG91dHB1dEVsZW1lbnQubGFzdFByb21pc2VWYWx1ZSk7CiAgcmV0dXJuIFByb21pc2UucmVzb2x2ZShuZXh0LnZhbHVlLnByb21pc2UpLnRoZW4oKHZhbHVlKSA9PiB7CiAgICAvLyBDYWNoZSB0aGUgbGFzdCBwcm9taXNlIHZhbHVlIHRvIG1ha2UgaXQgYXZhaWxhYmxlIHRvIHRoZSBuZXh0CiAgICAvLyBzdGVwIG9mIHRoZSBnZW5lcmF0b3IuCiAgICBvdXRwdXRFbGVtZW50Lmxhc3RQcm9taXNlVmFsdWUgPSB2YWx1ZTsKICAgIHJldHVybiBuZXh0LnZhbHVlLnJlc3BvbnNlOwogIH0pOwp9CgovKioKICogR2VuZXJhdG9yIGZ1bmN0aW9uIHdoaWNoIGlzIGNhbGxlZCBiZXR3ZWVuIGVhY2ggYXN5bmMgc3RlcCBvZiB0aGUgdXBsb2FkCiAqIHByb2Nlc3MuCiAqIEBwYXJhbSB7c3RyaW5nfSBpbnB1dElkIEVsZW1lbnQgSUQgb2YgdGhlIGlucHV0IGZpbGUgcGlja2VyIGVsZW1lbnQuCiAqIEBwYXJhbSB7c3RyaW5nfSBvdXRwdXRJZCBFbGVtZW50IElEIG9mIHRoZSBvdXRwdXQgZGlzcGxheS4KICogQHJldHVybiB7IUl0ZXJhYmxlPCFPYmplY3Q+fSBJdGVyYWJsZSBvZiBuZXh0IHN0ZXBzLgogKi8KZnVuY3Rpb24qIHVwbG9hZEZpbGVzU3RlcChpbnB1dElkLCBvdXRwdXRJZCkgewogIGNvbnN0IGlucHV0RWxlbWVudCA9IGRvY3VtZW50LmdldEVsZW1lbnRCeUlkKGlucHV0SWQpOwogIGlucHV0RWxlbWVudC5kaXNhYmxlZCA9IGZhbHNlOwoKICBjb25zdCBvdXRwdXRFbGVtZW50ID0gZG9jdW1lbnQuZ2V0RWxlbWVudEJ5SWQob3V0cHV0SWQpOwogIG91dHB1dEVsZW1lbnQuaW5uZXJIVE1MID0gJyc7CgogIGNvbnN0IHBpY2tlZFByb21pc2UgPSBuZXcgUHJvbWlzZSgocmVzb2x2ZSkgPT4gewogICAgaW5wdXRFbGVtZW50LmFkZEV2ZW50TGlzdGVuZXIoJ2NoYW5nZScsIChlKSA9PiB7CiAgICAgIHJlc29sdmUoZS50YXJnZXQuZmlsZXMpOwogICAgfSk7CiAgfSk7CgogIGNvbnN0IGNhbmNlbCA9IGRvY3VtZW50LmNyZWF0ZUVsZW1lbnQoJ2J1dHRvbicpOwogIGlucHV0RWxlbWVudC5wYXJlbnRFbGVtZW50LmFwcGVuZENoaWxkKGNhbmNlbCk7CiAgY2FuY2VsLnRleHRDb250ZW50ID0gJ0NhbmNlbCB1cGxvYWQnOwogIGNvbnN0IGNhbmNlbFByb21pc2UgPSBuZXcgUHJvbWlzZSgocmVzb2x2ZSkgPT4gewogICAgY2FuY2VsLm9uY2xpY2sgPSAoKSA9PiB7CiAgICAgIHJlc29sdmUobnVsbCk7CiAgICB9OwogIH0pOwoKICAvLyBXYWl0IGZvciB0aGUgdXNlciB0byBwaWNrIHRoZSBmaWxlcy4KICBjb25zdCBmaWxlcyA9IHlpZWxkIHsKICAgIHByb21pc2U6IFByb21pc2UucmFjZShbcGlja2VkUHJvbWlzZSwgY2FuY2VsUHJvbWlzZV0pLAogICAgcmVzcG9uc2U6IHsKICAgICAgYWN0aW9uOiAnc3RhcnRpbmcnLAogICAgfQogIH07CgogIGNhbmNlbC5yZW1vdmUoKTsKCiAgLy8gRGlzYWJsZSB0aGUgaW5wdXQgZWxlbWVudCBzaW5jZSBmdXJ0aGVyIHBpY2tzIGFyZSBub3QgYWxsb3dlZC4KICBpbnB1dEVsZW1lbnQuZGlzYWJsZWQgPSB0cnVlOwoKICBpZiAoIWZpbGVzKSB7CiAgICByZXR1cm4gewogICAgICByZXNwb25zZTogewogICAgICAgIGFjdGlvbjogJ2NvbXBsZXRlJywKICAgICAgfQogICAgfTsKICB9CgogIGZvciAoY29uc3QgZmlsZSBvZiBmaWxlcykgewogICAgY29uc3QgbGkgPSBkb2N1bWVudC5jcmVhdGVFbGVtZW50KCdsaScpOwogICAgbGkuYXBwZW5kKHNwYW4oZmlsZS5uYW1lLCB7Zm9udFdlaWdodDogJ2JvbGQnfSkpOwogICAgbGkuYXBwZW5kKHNwYW4oCiAgICAgICAgYCgke2ZpbGUudHlwZSB8fCAnbi9hJ30pIC0gJHtmaWxlLnNpemV9IGJ5dGVzLCBgICsKICAgICAgICBgbGFzdCBtb2RpZmllZDogJHsKICAgICAgICAgICAgZmlsZS5sYXN0TW9kaWZpZWREYXRlID8gZmlsZS5sYXN0TW9kaWZpZWREYXRlLnRvTG9jYWxlRGF0ZVN0cmluZygpIDoKICAgICAgICAgICAgICAgICAgICAgICAgICAgICAgICAgICAgJ24vYSd9IC0gYCkpOwogICAgY29uc3QgcGVyY2VudCA9IHNwYW4oJzAlIGRvbmUnKTsKICAgIGxpLmFwcGVuZENoaWxkKHBlcmNlbnQpOwoKICAgIG91dHB1dEVsZW1lbnQuYXBwZW5kQ2hpbGQobGkpOwoKICAgIGNvbnN0IGZpbGVEYXRhUHJvbWlzZSA9IG5ldyBQcm9taXNlKChyZXNvbHZlKSA9PiB7CiAgICAgIGNvbnN0IHJlYWRlciA9IG5ldyBGaWxlUmVhZGVyKCk7CiAgICAgIHJlYWRlci5vbmxvYWQgPSAoZSkgPT4gewogICAgICAgIHJlc29sdmUoZS50YXJnZXQucmVzdWx0KTsKICAgICAgfTsKICAgICAgcmVhZGVyLnJlYWRBc0FycmF5QnVmZmVyKGZpbGUpOwogICAgfSk7CiAgICAvLyBXYWl0IGZvciB0aGUgZGF0YSB0byBiZSByZWFkeS4KICAgIGxldCBmaWxlRGF0YSA9IHlpZWxkIHsKICAgICAgcHJvbWlzZTogZmlsZURhdGFQcm9taXNlLAogICAgICByZXNwb25zZTogewogICAgICAgIGFjdGlvbjogJ2NvbnRpbnVlJywKICAgICAgfQogICAgfTsKCiAgICAvLyBVc2UgYSBjaHVua2VkIHNlbmRpbmcgdG8gYXZvaWQgbWVzc2FnZSBzaXplIGxpbWl0cy4gU2VlIGIvNjIxMTU2NjAuCiAgICBsZXQgcG9zaXRpb24gPSAwOwogICAgZG8gewogICAgICBjb25zdCBsZW5ndGggPSBNYXRoLm1pbihmaWxlRGF0YS5ieXRlTGVuZ3RoIC0gcG9zaXRpb24sIE1BWF9QQVlMT0FEX1NJWkUpOwogICAgICBjb25zdCBjaHVuayA9IG5ldyBVaW50OEFycmF5KGZpbGVEYXRhLCBwb3NpdGlvbiwgbGVuZ3RoKTsKICAgICAgcG9zaXRpb24gKz0gbGVuZ3RoOwoKICAgICAgY29uc3QgYmFzZTY0ID0gYnRvYShTdHJpbmcuZnJvbUNoYXJDb2RlLmFwcGx5KG51bGwsIGNodW5rKSk7CiAgICAgIHlpZWxkIHsKICAgICAgICByZXNwb25zZTogewogICAgICAgICAgYWN0aW9uOiAnYXBwZW5kJywKICAgICAgICAgIGZpbGU6IGZpbGUubmFtZSwKICAgICAgICAgIGRhdGE6IGJhc2U2NCwKICAgICAgICB9LAogICAgICB9OwoKICAgICAgbGV0IHBlcmNlbnREb25lID0gZmlsZURhdGEuYnl0ZUxlbmd0aCA9PT0gMCA/CiAgICAgICAgICAxMDAgOgogICAgICAgICAgTWF0aC5yb3VuZCgocG9zaXRpb24gLyBmaWxlRGF0YS5ieXRlTGVuZ3RoKSAqIDEwMCk7CiAgICAgIHBlcmNlbnQudGV4dENvbnRlbnQgPSBgJHtwZXJjZW50RG9uZX0lIGRvbmVgOwoKICAgIH0gd2hpbGUgKHBvc2l0aW9uIDwgZmlsZURhdGEuYnl0ZUxlbmd0aCk7CiAgfQoKICAvLyBBbGwgZG9uZS4KICB5aWVsZCB7CiAgICByZXNwb25zZTogewogICAgICBhY3Rpb246ICdjb21wbGV0ZScsCiAgICB9CiAgfTsKfQoKc2NvcGUuZ29vZ2xlID0gc2NvcGUuZ29vZ2xlIHx8IHt9OwpzY29wZS5nb29nbGUuY29sYWIgPSBzY29wZS5nb29nbGUuY29sYWIgfHwge307CnNjb3BlLmdvb2dsZS5jb2xhYi5fZmlsZXMgPSB7CiAgX3VwbG9hZEZpbGVzLAogIF91cGxvYWRGaWxlc0NvbnRpbnVlLAp9Owp9KShzZWxmKTsK",
       "headers": [
        [
         "content-type",
         "application/javascript"
        ]
       ],
       "ok": true,
       "status": 200,
       "status_text": ""
      }
     }
    },
    "id": "OM2p_94hkGnO",
    "outputId": "a1fda374-902c-4139-ebb2-4dcef1cb0af2"
   },
   "outputs": [],
   "source": [
    "import pandas as pd \n",
    "import numpy as np \n",
    "import matplotlib.pyplot as plt \n",
    "import seaborn as sns\n",
    "import statsmodels.formula.api as smf \n",
    "import warnings \n",
    "warnings.filterwarnings('ignore')\n",
    "%matplotlib inline\n",
    "sns.set_context('notebook')\n",
    "sns.set_style('ticks')\n",
    "\n",
    "from sklearn.neighbors import KNeighborsRegressor\n",
    "from sklearn.metrics import mean_squared_error\n",
    "from sklearn.model_selection import KFold\n",
    "from sklearn.model_selection import cross_val_score"
   ]
  },
  {
   "cell_type": "code",
   "execution_count": null,
   "metadata": {
    "id": "jY72TGF3kPZY"
   },
   "outputs": [],
   "source": [
    "train = pd.read_csv('ATM_training.csv')\n",
    "ATM_test = pd.read_csv('ATM_test.csv')"
   ]
  },
  {
   "cell_type": "code",
   "execution_count": null,
   "metadata": {
    "id": "K6hclzFUkUew"
   },
   "outputs": [],
   "source": [
    "# Standardising the data\n",
    "response = ['Withdraw']\n",
    "numerical_predictors=['Shops', 'ATMs']\n",
    "predictors=[x for x in list(train.columns) if x not in response]\n",
    "\n",
    "mu=train[numerical_predictors].mean()\n",
    "sigma=train[numerical_predictors].std()\n",
    "train[numerical_predictors]=(train[numerical_predictors]-mu)/sigma\n",
    "ATM_test[numerical_predictors]=(ATM_test[numerical_predictors]-mu)/sigma"
   ]
  },
  {
   "cell_type": "code",
   "execution_count": null,
   "metadata": {
    "id": "DhsEQLdskZWz"
   },
   "outputs": [],
   "source": [
    "# Function\n",
    "def knn_test(predictors, response):\n",
    "    ## Function inputs are predictor and repsonse variables.\n",
    "    ## It will try out many different values of k & keep track of \n",
    "    ## the optimal k which gives the best CV score & the lowest MSE.\n",
    "    ## With the final optimal value of k, function will then fit the \n",
    "    ## training data, then make predictions using VALIDATION(?) data. \n",
    "    ## Function outputs are val_mse, cv_mse.\n",
    "\n",
    "    neighbours=np.arange(1, 51) \n",
    "    best_score = -np.inf\n",
    "    \n",
    "    for k in neighbours: \n",
    "        knn = KNeighborsRegressor(n_neighbors = k, metric='mahalanobis', metric_params={'V': train[predictors].cov()}) \n",
    "        scores = cross_val_score(knn, train[predictors], train[response], cv=10, scoring = 'neg_mean_squared_error')\n",
    "        cv_score = np.mean(scores)\n",
    "        if cv_score >= best_score: \n",
    "            best_score = cv_score \n",
    "            best_knn = knn \n",
    "\n",
    "    ## training knn model with optimal k and training data \n",
    "    knn = best_knn\n",
    "    knn.fit(train[predictors], train[response])\n",
    "    predictions = knn.predict(test[predictors])\n",
    "    test_mse = mean_squared_error(test[response], predictions)\n",
    "   \n",
    "    cv_mse= np.sqrt(-best_score)\n",
    "    print('Chosen K: {}'.format(knn.n_neighbors))\n",
    "    \n",
    "    return test_mse, cv_mse"
   ]
  },
  {
   "cell_type": "code",
   "execution_count": null,
   "metadata": {
    "colab": {
     "base_uri": "https://localhost:8080/"
    },
    "id": "wTDrRkpgs27L",
    "outputId": "a43fe7df-0a1c-46ab-a430-b70c63dc09bf"
   },
   "outputs": [
    {
     "name": "stdout",
     "output_type": "stream",
     "text": [
      "Chosen K: 50\n",
      "Test MSE : 3.52\n",
      "Cross validation MSE : 4.1638\n"
     ]
    }
   ],
   "source": [
    "# Maybe we should remove this and the one below this cell \n",
    "predictors = ['Shops']\n",
    "test_mse, cv_mse  =  knn_test(predictors, response) \n",
    "print('Test MSE : {}'.format(test_mse.round(4)))\n",
    "print('Cross validation MSE : {}'.format(cv_mse.round(4)))"
   ]
  },
  {
   "cell_type": "code",
   "execution_count": null,
   "metadata": {
    "colab": {
     "base_uri": "https://localhost:8080/"
    },
    "id": "6vEZlgVK0Hn2",
    "outputId": "574579b3-4fd6-475d-d9a1-dd310405e330"
   },
   "outputs": [
    {
     "name": "stdout",
     "output_type": "stream",
     "text": [
      "Chosen K: 48\n",
      "Test MSE : 4.0575\n",
      "Cross validation MSE : 6.9434\n"
     ]
    }
   ],
   "source": [
    "predictors = ['ATMs']\n",
    "test_mse, cv_mse  =  knn_test(predictors, response) \n",
    "print('Test MSE : {}'.format(test_mse.round(4)))\n",
    "print('Cross validation MSE : {}'.format(cv_mse.round(4)))"
   ]
  },
  {
   "cell_type": "code",
   "execution_count": null,
   "metadata": {
    "colab": {
     "base_uri": "https://localhost:8080/"
    },
    "id": "7t1FzGimtAY9",
    "outputId": "3a520fac-905a-4b39-b655-0cc1e7565d80"
   },
   "outputs": [
    {
     "name": "stdout",
     "output_type": "stream",
     "text": [
      "Chosen K: 49\n",
      "Test MSE : 2.6253\n",
      "Cross validation MSE : 3.7379\n"
     ]
    }
   ],
   "source": [
    "predictors = ['Shops', 'ATMs']\n",
    "test_mse, cv_mse  =  knn_test(predictors, response) \n",
    "print('Test MSE : {}'.format(test_mse.round(4)))\n",
    "print('Cross validation MSE : {}'.format(cv_mse.round(4)))"
   ]
  },
  {
   "cell_type": "code",
   "execution_count": null,
   "metadata": {
    "colab": {
     "base_uri": "https://localhost:8080/"
    },
    "id": "SroL1vQCw9h4",
    "outputId": "fe3488d7-32af-4756-caea-0df972aab463"
   },
   "outputs": [
    {
     "name": "stdout",
     "output_type": "stream",
     "text": [
      "Chosen K: 49\n",
      "Test MSE : 2.8323\n",
      "Cross validation MSE : 3.7316\n"
     ]
    }
   ],
   "source": [
    "predictors = ['Shops', 'ATMs', 'Downtown']\n",
    "test_mse, cv_mse  =  knn_test(predictors, response) \n",
    "print('Test MSE : {}'.format(test_mse.round(4)))\n",
    "print('Cross validation MSE : {}'.format(cv_mse.round(4)))"
   ]
  },
  {
   "cell_type": "code",
   "execution_count": null,
   "metadata": {
    "colab": {
     "base_uri": "https://localhost:8080/"
    },
    "id": "3hA6jvHUxH-Z",
    "outputId": "291196cd-07b4-407d-e8de-5f06f3b02abe"
   },
   "outputs": [
    {
     "name": "stdout",
     "output_type": "stream",
     "text": [
      "Chosen K: 41\n",
      "Test MSE : 1.905\n",
      "Cross validation MSE : 3.3625\n"
     ]
    }
   ],
   "source": [
    "predictors = ['Shops', 'ATMs', 'Weekday'] \n",
    "test_mse, cv_mse  =  knn_test(predictors, response) \n",
    "print('Test MSE : {}'.format(testmse.round(4)))\n",
    "print('Cross validation MSE : {}'.format(cv_mse.round(4)))"
   ]
  },
  {
   "cell_type": "code",
   "execution_count": null,
   "metadata": {
    "colab": {
     "base_uri": "https://localhost:8080/"
    },
    "id": "96HKsbvirnQm",
    "outputId": "4f71ae77-7a40-4ac4-b5f1-7895e7dd9cae"
   },
   "outputs": [
    {
     "name": "stdout",
     "output_type": "stream",
     "text": [
      "Chosen K: 44\n",
      "Test MSE : 2.7453\n",
      "Cross validation MSE : 2.9433\n"
     ]
    }
   ],
   "source": [
    "predictors = ['Shops', 'ATMs', 'Center'] \n",
    "test_mse, cv_mse  =  knn_test(predictors, response) \n",
    "print('Test MSE : {}'.format(test_mse.round(4)))\n",
    "print('Cross validation MSE : {}'.format(cv_mse.round(4)))"
   ]
  },
  {
   "cell_type": "code",
   "execution_count": null,
   "metadata": {
    "colab": {
     "base_uri": "https://localhost:8080/"
    },
    "id": "L79tQGpEsZV8",
    "outputId": "88abc2c4-6409-441b-e9ba-60b1338b2ce1"
   },
   "outputs": [
    {
     "name": "stdout",
     "output_type": "stream",
     "text": [
      "Chosen K: 46\n",
      "Test MSE : 2.8375\n",
      "Cross validation MSE : 3.7245\n"
     ]
    }
   ],
   "source": [
    "predictors = ['Shops', 'ATMs', 'High'] \n",
    "test_mse, cv_mse  =  knn_test(predictors, response) \n",
    "print('Test MSE : {}'.format(test_mse.round(4)))\n",
    "print('Cross validation MSE : {}'.format(cv_mse.round(4)))"
   ]
  },
  {
   "cell_type": "markdown",
   "metadata": {
    "id": "DDJ9Zw1bAAKd"
   },
   "source": [
    "Based on the results above, we observe that including Weekday and Center can improve our knn model whilse High and Downtown have minimal effects. \n",
    "\n",
    "We further test out various predictor combinations of Shops, ATMs, Weekday and Center, and work our way towards the predictor subset chosen by the LASSO method. "
   ]
  },
  {
   "cell_type": "code",
   "execution_count": null,
   "metadata": {
    "colab": {
     "base_uri": "https://localhost:8080/"
    },
    "id": "zsWoHG14samI",
    "outputId": "6b1dff30-fb85-42b2-b41f-48f75d313da7"
   },
   "outputs": [
    {
     "name": "stdout",
     "output_type": "stream",
     "text": [
      "Chosen K: 9\n",
      "Test MSE : 0.3615\n",
      "Cross validation MSE : 0.7521\n"
     ]
    }
   ],
   "source": [
    "predictors = ['Shops', 'ATMs', 'Weekday', 'Center']\n",
    "test_mse, cv_mse  =  knn_test(predictors, response) \n",
    "print('Test MSE : {}'.format(test_mse.round(4)))\n",
    "print('Cross validation MSE : {}'.format(cv_mse.round(4))) "
   ]
  },
  {
   "cell_type": "code",
   "execution_count": null,
   "metadata": {
    "colab": {
     "base_uri": "https://localhost:8080/"
    },
    "id": "9IikIE703pgQ",
    "outputId": "5ba114d9-ba12-4fbf-88af-0bb123712310"
   },
   "outputs": [
    {
     "name": "stdout",
     "output_type": "stream",
     "text": [
      "Chosen K: 5\n",
      "Test MSE : 0.2567\n",
      "Cross validation MSE : 0.6101\n"
     ]
    }
   ],
   "source": [
    "## Corresponds to LASSO regression results\n",
    "predictors = ['Shops', 'ATMs', 'Weekday', 'Center', 'High']\n",
    "test_mse, cv_mse  =  knn_test(predictors, response) \n",
    "print('Test MSE : {}'.format(test_mse.round(4)))\n",
    "print('Cross validation MSE : {}'.format(cv_mse.round(4))) #lowest so far"
   ]
  },
  {
   "cell_type": "code",
   "execution_count": null,
   "metadata": {
    "colab": {
     "base_uri": "https://localhost:8080/"
    },
    "id": "5TE4SlAJE8aY",
    "outputId": "a711f805-f69c-450c-c487-ffb665df7136"
   },
   "outputs": [
    {
     "name": "stdout",
     "output_type": "stream",
     "text": [
      "Chosen K: 50\n",
      "Test MSE : 3.2765\n",
      "Cross validation MSE : 2.9224\n"
     ]
    }
   ],
   "source": [
    "predictors = ['Shops', 'ATMs', 'Center', 'High']\n",
    "test_mse, cv_mse  =  knn_test(predictors, response) \n",
    "print('Test MSE : {}'.format(test_mse.round(4)))\n",
    "print('Cross validation MSE : {}'.format(cv_mse.round(4))) "
   ]
  },
  {
   "cell_type": "code",
   "execution_count": null,
   "metadata": {
    "colab": {
     "base_uri": "https://localhost:8080/"
    },
    "id": "wecci7_iI9Ik",
    "outputId": "190a21ea-ed33-4a6a-879f-c9fb65eb94b0"
   },
   "outputs": [
    {
     "name": "stdout",
     "output_type": "stream",
     "text": [
      "Chosen K: 50\n",
      "Test MSE : 3.1326\n",
      "Cross validation MSE : 2.9018\n"
     ]
    }
   ],
   "source": [
    "predictors = ['Shops', 'ATMs', 'Center', 'High', 'Downtown']\n",
    "test_mse, cv_mse  =  knn_test(predictors, response) \n",
    "print('Test MSE : {}'.format(test_mse.round(4)))\n",
    "print('Cross validation MSE : {}'.format(cv_mse.round(4))) "
   ]
  },
  {
   "cell_type": "code",
   "execution_count": null,
   "metadata": {
    "colab": {
     "base_uri": "https://localhost:8080/"
    },
    "id": "KV21byVVx6jD",
    "outputId": "40e6c010-d0ab-449f-f890-eb2a3b81297f"
   },
   "outputs": [
    {
     "name": "stdout",
     "output_type": "stream",
     "text": [
      "Chosen K: 47\n",
      "Test MSE : 4.5329\n",
      "Cross validation MSE : 3.4071\n"
     ]
    }
   ],
   "source": [
    "predictors = ['Shops', 'Center', 'High', 'Downtown'] \n",
    "test_mse, cv_mse  =  knn_test(predictors, response) \n",
    "print('Test MSE : {}'.format(test_mse.round(4)))\n",
    "print('Cross validation MSE : {}'.format(cv_mse.round(4))) "
   ]
  },
  {
   "cell_type": "code",
   "execution_count": null,
   "metadata": {
    "colab": {
     "base_uri": "https://localhost:8080/"
    },
    "id": "Ddmf6GUT2wgd",
    "outputId": "8776d9f1-79ab-4566-b7b2-6481b2dcbd03"
   },
   "outputs": [
    {
     "name": "stdout",
     "output_type": "stream",
     "text": [
      "Chosen K: 16\n",
      "Test MSE : 0.3456\n",
      "Cross validation MSE : 0.7153\n"
     ]
    }
   ],
   "source": [
    "predictors = ['Shops', 'ATMs', 'Downtown', 'Weekday', 'Center']\n",
    "test_mse, cv_mse  =  knn_test(predictors, response) \n",
    "print('Test MSE : {}'.format(test_mse.round(4)))\n",
    "print('Cross validation MSE : {}'.format(cv_mse.round(4))) "
   ]
  },
  {
   "cell_type": "code",
   "execution_count": null,
   "metadata": {
    "colab": {
     "base_uri": "https://localhost:8080/"
    },
    "id": "tz8eEzEIJPR5",
    "outputId": "26e5ff84-52c8-4056-8f12-8db3f1f16e48"
   },
   "outputs": [
    {
     "name": "stdout",
     "output_type": "stream",
     "text": [
      "Chosen K: 12\n",
      "Validation MSE : 0.3456\n",
      "Cross validation MSE : 0.7153\n"
     ]
    }
   ],
   "source": [
    "predictors = ['Shops', 'ATMs', 'Downtown', 'Weekday', 'Center', 'High']\n",
    "val_mse, cv_mse  =  knn_test(predictors, response) \n",
    "print('Test MSE : {}'.format(test_mse.round(4)))\n",
    "print('Cross validation MSE : {}'.format(cv_mse.round(4)))"
   ]
  },
  {
   "cell_type": "markdown",
   "metadata": {
    "id": "tVdJSmHL15Z-"
   },
   "source": [
    "**By inspection of the KNN Regression results, we obtain a test mean squared of error of 0.3456 being the smallest in comparison to all the other methods used here.**"
   ]
  },
  {
   "cell_type": "markdown",
   "metadata": {
    "id": "iT9EEGs69irj"
   },
   "source": [
    "# **Neural Networks and Deep Learning**\n",
    "\n",
    "\n"
   ]
  },
  {
   "cell_type": "code",
   "execution_count": null,
   "metadata": {
    "id": "DIDv1XQt2Cep"
   },
   "outputs": [],
   "source": [
    "import math\n",
    "import pandas as pd\n",
    "import numpy as np\n",
    "import matplotlib.pyplot as plt\n",
    "from sklearn.preprocessing import MinMaxScaler\n",
    "from sklearn.metrics import mean_squared_error\n",
    "\n",
    "from keras.layers.core import Dense \n",
    "from keras.models import Sequential\n",
    "import tensorflow as tf"
   ]
  },
  {
   "cell_type": "code",
   "execution_count": null,
   "metadata": {
    "id": "wWC6-YT54xoK"
   },
   "outputs": [],
   "source": [
    "np.random.seed(3)"
   ]
  },
  {
   "cell_type": "code",
   "execution_count": null,
   "metadata": {
    "id": "GBlQQr7Q4zCD"
   },
   "outputs": [],
   "source": [
    "tf.random.set_seed(3)"
   ]
  },
  {
   "cell_type": "code",
   "execution_count": null,
   "metadata": {
    "colab": {
     "base_uri": "https://localhost:8080/",
     "height": 204
    },
    "id": "NZEPDgV6hQwX",
    "outputId": "15ca1b35-ccdf-4471-dc86-d696784b240c"
   },
   "outputs": [
    {
     "data": {
      "text/html": [
       "<div>\n",
       "<style scoped>\n",
       "    .dataframe tbody tr th:only-of-type {\n",
       "        vertical-align: middle;\n",
       "    }\n",
       "\n",
       "    .dataframe tbody tr th {\n",
       "        vertical-align: top;\n",
       "    }\n",
       "\n",
       "    .dataframe thead th {\n",
       "        text-align: right;\n",
       "    }\n",
       "</style>\n",
       "<table border=\"1\" class=\"dataframe\">\n",
       "  <thead>\n",
       "    <tr style=\"text-align: right;\">\n",
       "      <th></th>\n",
       "      <th>Shops</th>\n",
       "      <th>ATMs</th>\n",
       "      <th>Downtown</th>\n",
       "      <th>Weekday</th>\n",
       "      <th>Center</th>\n",
       "      <th>High</th>\n",
       "      <th>Withdraw</th>\n",
       "    </tr>\n",
       "  </thead>\n",
       "  <tbody>\n",
       "    <tr>\n",
       "      <th>0</th>\n",
       "      <td>10.18</td>\n",
       "      <td>10</td>\n",
       "      <td>1</td>\n",
       "      <td>0</td>\n",
       "      <td>0</td>\n",
       "      <td>0</td>\n",
       "      <td>72.750556</td>\n",
       "    </tr>\n",
       "    <tr>\n",
       "      <th>1</th>\n",
       "      <td>9.74</td>\n",
       "      <td>10</td>\n",
       "      <td>1</td>\n",
       "      <td>1</td>\n",
       "      <td>0</td>\n",
       "      <td>0</td>\n",
       "      <td>66.720482</td>\n",
       "    </tr>\n",
       "    <tr>\n",
       "      <th>2</th>\n",
       "      <td>0.96</td>\n",
       "      <td>2</td>\n",
       "      <td>0</td>\n",
       "      <td>0</td>\n",
       "      <td>0</td>\n",
       "      <td>1</td>\n",
       "      <td>19.189516</td>\n",
       "    </tr>\n",
       "    <tr>\n",
       "      <th>3</th>\n",
       "      <td>9.58</td>\n",
       "      <td>9</td>\n",
       "      <td>1</td>\n",
       "      <td>1</td>\n",
       "      <td>0</td>\n",
       "      <td>1</td>\n",
       "      <td>67.388669</td>\n",
       "    </tr>\n",
       "    <tr>\n",
       "      <th>4</th>\n",
       "      <td>1.03</td>\n",
       "      <td>4</td>\n",
       "      <td>0</td>\n",
       "      <td>1</td>\n",
       "      <td>0</td>\n",
       "      <td>1</td>\n",
       "      <td>15.813127</td>\n",
       "    </tr>\n",
       "  </tbody>\n",
       "</table>\n",
       "</div>"
      ],
      "text/plain": [
       "   Shops  ATMs  Downtown  Weekday  Center  High   Withdraw\n",
       "0  10.18    10         1        0       0     0  72.750556\n",
       "1   9.74    10         1        1       0     0  66.720482\n",
       "2   0.96     2         0        0       0     1  19.189516\n",
       "3   9.58     9         1        1       0     1  67.388669\n",
       "4   1.03     4         0        1       0     1  15.813127"
      ]
     },
     "execution_count": 40,
     "metadata": {},
     "output_type": "execute_result"
    }
   ],
   "source": [
    "# Load the data\n",
    "df = pd.read_csv('ATM_training.csv')\n",
    "ATM_test = pd.read_csv('ATM_test.csv')\n",
    "df.head()"
   ]
  },
  {
   "cell_type": "code",
   "execution_count": null,
   "metadata": {
    "id": "BSIV7tdchcBz"
   },
   "outputs": [],
   "source": [
    "#Standardising predictors for training set\n",
    "\n",
    "response = ['Withdraw']\n",
    "numerical_predictors = ['Shops','ATMs'] # the list all predictors\n",
    "\n",
    "mu = df[numerical_predictors].mean() # mean for each feature\n",
    "sigma = df[numerical_predictors].std() # std for each feature\n",
    "\n",
    "df[numerical_predictors] = (df[numerical_predictors] - mu) / sigma"
   ]
  },
  {
   "cell_type": "code",
   "execution_count": null,
   "metadata": {
    "colab": {
     "base_uri": "https://localhost:8080/",
     "height": 204
    },
    "id": "LNPeLTn9hdDS",
    "outputId": "132e3d5c-b0f1-4b4e-89e8-7a0dc851407f"
   },
   "outputs": [
    {
     "data": {
      "text/html": [
       "<div>\n",
       "<style scoped>\n",
       "    .dataframe tbody tr th:only-of-type {\n",
       "        vertical-align: middle;\n",
       "    }\n",
       "\n",
       "    .dataframe tbody tr th {\n",
       "        vertical-align: top;\n",
       "    }\n",
       "\n",
       "    .dataframe thead th {\n",
       "        text-align: right;\n",
       "    }\n",
       "</style>\n",
       "<table border=\"1\" class=\"dataframe\">\n",
       "  <thead>\n",
       "    <tr style=\"text-align: right;\">\n",
       "      <th></th>\n",
       "      <th>Shops</th>\n",
       "      <th>ATMs</th>\n",
       "      <th>Downtown</th>\n",
       "      <th>Weekday</th>\n",
       "      <th>Center</th>\n",
       "      <th>High</th>\n",
       "      <th>Withdraw</th>\n",
       "    </tr>\n",
       "  </thead>\n",
       "  <tbody>\n",
       "    <tr>\n",
       "      <th>0</th>\n",
       "      <td>0.695276</td>\n",
       "      <td>0.561479</td>\n",
       "      <td>1</td>\n",
       "      <td>0</td>\n",
       "      <td>0</td>\n",
       "      <td>0</td>\n",
       "      <td>72.750556</td>\n",
       "    </tr>\n",
       "    <tr>\n",
       "      <th>1</th>\n",
       "      <td>0.588446</td>\n",
       "      <td>0.561479</td>\n",
       "      <td>1</td>\n",
       "      <td>1</td>\n",
       "      <td>0</td>\n",
       "      <td>0</td>\n",
       "      <td>66.720482</td>\n",
       "    </tr>\n",
       "    <tr>\n",
       "      <th>2</th>\n",
       "      <td>-1.543299</td>\n",
       "      <td>-1.616331</td>\n",
       "      <td>0</td>\n",
       "      <td>0</td>\n",
       "      <td>0</td>\n",
       "      <td>1</td>\n",
       "      <td>19.189516</td>\n",
       "    </tr>\n",
       "    <tr>\n",
       "      <th>3</th>\n",
       "      <td>0.549598</td>\n",
       "      <td>0.289253</td>\n",
       "      <td>1</td>\n",
       "      <td>1</td>\n",
       "      <td>0</td>\n",
       "      <td>1</td>\n",
       "      <td>67.388669</td>\n",
       "    </tr>\n",
       "    <tr>\n",
       "      <th>4</th>\n",
       "      <td>-1.526303</td>\n",
       "      <td>-1.071879</td>\n",
       "      <td>0</td>\n",
       "      <td>1</td>\n",
       "      <td>0</td>\n",
       "      <td>1</td>\n",
       "      <td>15.813127</td>\n",
       "    </tr>\n",
       "  </tbody>\n",
       "</table>\n",
       "</div>"
      ],
      "text/plain": [
       "      Shops      ATMs  Downtown  Weekday  Center  High   Withdraw\n",
       "0  0.695276  0.561479         1        0       0     0  72.750556\n",
       "1  0.588446  0.561479         1        1       0     0  66.720482\n",
       "2 -1.543299 -1.616331         0        0       0     1  19.189516\n",
       "3  0.549598  0.289253         1        1       0     1  67.388669\n",
       "4 -1.526303 -1.071879         0        1       0     1  15.813127"
      ]
     },
     "execution_count": 42,
     "metadata": {},
     "output_type": "execute_result"
    }
   ],
   "source": [
    "df.head()"
   ]
  },
  {
   "cell_type": "code",
   "execution_count": null,
   "metadata": {
    "id": "XYA-duErq9rE"
   },
   "outputs": [],
   "source": [
    "# Splitting into train and validation data - using time window\n",
    "train_size = math.ceil(0.7*len(df))\n",
    "\n",
    "train = df.sample(n=train_size, random_state=1)\n",
    "val = df[df.index.isin(train.index)==False]"
   ]
  },
  {
   "cell_type": "code",
   "execution_count": null,
   "metadata": {
    "id": "1SHUapmaheHP"
   },
   "outputs": [],
   "source": [
    "df = df.values  # Convert from DataFrame to Python Array\n",
    "train = train.values  \n",
    "val = val.values"
   ]
  },
  {
   "cell_type": "code",
   "execution_count": null,
   "metadata": {
    "id": "gKdTGQQdhfPl"
   },
   "outputs": [],
   "source": [
    "df = df.astype('float') # Data is set as type 'float'\n",
    "train = train.astype('float') \n",
    "val = val.astype('float')"
   ]
  },
  {
   "cell_type": "code",
   "execution_count": null,
   "metadata": {
    "id": "sB4NiO0ghgIS"
   },
   "outputs": [],
   "source": [
    "# Split the dataset into input (X) and output variables (y)\n",
    "X = df[:,0:6]\n",
    "y = df[:,6]\n",
    "\n",
    "# training data \n",
    "X_train = train[:,0:6]\n",
    "y_train = train[:,6]\n",
    "\n",
    "# validation data \n",
    "X_val = val[:,0:6]\n",
    "y_val = val[:,6]"
   ]
  },
  {
   "cell_type": "code",
   "execution_count": null,
   "metadata": {
    "id": "vk8d2VHehg3i"
   },
   "outputs": [],
   "source": [
    "model = Sequential()\n",
    "model.add(Dense(12, input_dim = 6, activation ='relu'))\n",
    "model.add(Dense(1))"
   ]
  },
  {
   "cell_type": "code",
   "execution_count": null,
   "metadata": {
    "id": "dyoz5y1Uhh0w"
   },
   "outputs": [],
   "source": [
    "model.compile(loss='mean_squared_error', optimizer='adam')"
   ]
  },
  {
   "cell_type": "code",
   "execution_count": null,
   "metadata": {
    "colab": {
     "base_uri": "https://localhost:8080/"
    },
    "id": "B4bTwmi7hiz8",
    "outputId": "0b3e2348-51f6-43eb-b70a-e6bb048d6445"
   },
   "outputs": [
    {
     "name": "stdout",
     "output_type": "stream",
     "text": [
      "Model: \"sequential_1\"\n",
      "_________________________________________________________________\n",
      " Layer (type)                Output Shape              Param #   \n",
      "=================================================================\n",
      " dense_2 (Dense)             (None, 12)                84        \n",
      "                                                                 \n",
      " dense_3 (Dense)             (None, 1)                 13        \n",
      "                                                                 \n",
      "=================================================================\n",
      "Total params: 97\n",
      "Trainable params: 97\n",
      "Non-trainable params: 0\n",
      "_________________________________________________________________\n"
     ]
    }
   ],
   "source": [
    "model.summary()\n"
   ]
  },
  {
   "cell_type": "code",
   "execution_count": null,
   "metadata": {
    "colab": {
     "base_uri": "https://localhost:8080/"
    },
    "id": "DQJRPqG8hjho",
    "outputId": "86f487fe-f7a7-4eb7-9f96-b36814842425"
   },
   "outputs": [
    {
     "name": "stdout",
     "output_type": "stream",
     "text": [
      "Epoch 1/150\n",
      "482/482 [==============================] - 1s 2ms/step - loss: 3294.1663\n",
      "Epoch 2/150\n",
      "482/482 [==============================] - 1s 1ms/step - loss: 1632.7827\n",
      "Epoch 3/150\n",
      "482/482 [==============================] - 1s 1ms/step - loss: 373.3582\n",
      "Epoch 4/150\n",
      "482/482 [==============================] - 1s 1ms/step - loss: 139.4779\n",
      "Epoch 5/150\n",
      "482/482 [==============================] - 1s 1ms/step - loss: 106.6469\n",
      "Epoch 6/150\n",
      "482/482 [==============================] - 1s 1ms/step - loss: 82.4684\n",
      "Epoch 7/150\n",
      "482/482 [==============================] - 1s 1ms/step - loss: 59.7028\n",
      "Epoch 8/150\n",
      "482/482 [==============================] - 1s 1ms/step - loss: 38.7006\n",
      "Epoch 9/150\n",
      "482/482 [==============================] - 1s 1ms/step - loss: 21.7861\n",
      "Epoch 10/150\n",
      "482/482 [==============================] - 1s 1ms/step - loss: 11.7209\n",
      "Epoch 11/150\n",
      "482/482 [==============================] - 1s 1ms/step - loss: 8.1284\n",
      "Epoch 12/150\n",
      "482/482 [==============================] - 1s 1ms/step - loss: 7.3026\n",
      "Epoch 13/150\n",
      "482/482 [==============================] - 1s 2ms/step - loss: 7.0399\n",
      "Epoch 14/150\n",
      "482/482 [==============================] - 1s 1ms/step - loss: 6.7978\n",
      "Epoch 15/150\n",
      "482/482 [==============================] - 1s 1ms/step - loss: 6.3401\n",
      "Epoch 16/150\n",
      "482/482 [==============================] - 1s 1ms/step - loss: 5.7602\n",
      "Epoch 17/150\n",
      "482/482 [==============================] - 1s 1ms/step - loss: 5.1133\n",
      "Epoch 18/150\n",
      "482/482 [==============================] - 1s 1ms/step - loss: 4.4412\n",
      "Epoch 19/150\n",
      "482/482 [==============================] - 1s 1ms/step - loss: 3.7860\n",
      "Epoch 20/150\n",
      "482/482 [==============================] - 1s 1ms/step - loss: 3.1695\n",
      "Epoch 21/150\n",
      "482/482 [==============================] - 1s 1ms/step - loss: 2.6587\n",
      "Epoch 22/150\n",
      "482/482 [==============================] - 1s 1ms/step - loss: 2.2169\n",
      "Epoch 23/150\n",
      "482/482 [==============================] - 1s 1ms/step - loss: 1.8284\n",
      "Epoch 24/150\n",
      "482/482 [==============================] - 1s 1ms/step - loss: 1.5104\n",
      "Epoch 25/150\n",
      "482/482 [==============================] - 1s 1ms/step - loss: 1.2609\n",
      "Epoch 26/150\n",
      "482/482 [==============================] - 1s 1ms/step - loss: 1.0773\n",
      "Epoch 27/150\n",
      "482/482 [==============================] - 1s 1ms/step - loss: 0.9369\n",
      "Epoch 28/150\n",
      "482/482 [==============================] - 1s 1ms/step - loss: 0.8342\n",
      "Epoch 29/150\n",
      "482/482 [==============================] - 1s 1ms/step - loss: 0.7552\n",
      "Epoch 30/150\n",
      "482/482 [==============================] - 1s 1ms/step - loss: 0.6929\n",
      "Epoch 31/150\n",
      "482/482 [==============================] - 1s 1ms/step - loss: 0.6430\n",
      "Epoch 32/150\n",
      "482/482 [==============================] - 1s 1ms/step - loss: 0.5997\n",
      "Epoch 33/150\n",
      "482/482 [==============================] - 1s 1ms/step - loss: 0.5596\n",
      "Epoch 34/150\n",
      "482/482 [==============================] - 1s 1ms/step - loss: 0.5211\n",
      "Epoch 35/150\n",
      "482/482 [==============================] - 1s 1ms/step - loss: 0.4873\n",
      "Epoch 36/150\n",
      "482/482 [==============================] - 1s 1ms/step - loss: 0.4560\n",
      "Epoch 37/150\n",
      "482/482 [==============================] - 1s 1ms/step - loss: 0.4293\n",
      "Epoch 38/150\n",
      "482/482 [==============================] - 1s 1ms/step - loss: 0.4061\n",
      "Epoch 39/150\n",
      "482/482 [==============================] - 1s 1ms/step - loss: 0.3840\n",
      "Epoch 40/150\n",
      "482/482 [==============================] - 1s 1ms/step - loss: 0.3637\n",
      "Epoch 41/150\n",
      "482/482 [==============================] - 1s 1ms/step - loss: 0.3487\n",
      "Epoch 42/150\n",
      "482/482 [==============================] - 1s 1ms/step - loss: 0.3355\n",
      "Epoch 43/150\n",
      "482/482 [==============================] - 1s 1ms/step - loss: 0.3243\n",
      "Epoch 44/150\n",
      "482/482 [==============================] - 1s 1ms/step - loss: 0.3149\n",
      "Epoch 45/150\n",
      "482/482 [==============================] - 1s 1ms/step - loss: 0.3060\n",
      "Epoch 46/150\n",
      "482/482 [==============================] - 1s 1ms/step - loss: 0.3006\n",
      "Epoch 47/150\n",
      "482/482 [==============================] - 1s 1ms/step - loss: 0.2934\n",
      "Epoch 48/150\n",
      "482/482 [==============================] - 1s 1ms/step - loss: 0.2899\n",
      "Epoch 49/150\n",
      "482/482 [==============================] - 1s 1ms/step - loss: 0.2849\n",
      "Epoch 50/150\n",
      "482/482 [==============================] - 1s 1ms/step - loss: 0.2825\n",
      "Epoch 51/150\n",
      "482/482 [==============================] - 1s 1ms/step - loss: 0.2801\n",
      "Epoch 52/150\n",
      "482/482 [==============================] - 1s 1ms/step - loss: 0.2774\n",
      "Epoch 53/150\n",
      "482/482 [==============================] - 1s 1ms/step - loss: 0.2758\n",
      "Epoch 54/150\n",
      "482/482 [==============================] - 1s 1ms/step - loss: 0.2745\n",
      "Epoch 55/150\n",
      "482/482 [==============================] - 1s 1ms/step - loss: 0.2738\n",
      "Epoch 56/150\n",
      "482/482 [==============================] - 1s 1ms/step - loss: 0.2715\n",
      "Epoch 57/150\n",
      "482/482 [==============================] - 1s 2ms/step - loss: 0.2714\n",
      "Epoch 58/150\n",
      "482/482 [==============================] - 1s 1ms/step - loss: 0.2729\n",
      "Epoch 59/150\n",
      "482/482 [==============================] - 1s 1ms/step - loss: 0.2703\n",
      "Epoch 60/150\n",
      "482/482 [==============================] - 1s 1ms/step - loss: 0.2685\n",
      "Epoch 61/150\n",
      "482/482 [==============================] - 1s 1ms/step - loss: 0.2700\n",
      "Epoch 62/150\n",
      "482/482 [==============================] - 1s 1ms/step - loss: 0.2686\n",
      "Epoch 63/150\n",
      "482/482 [==============================] - 1s 1ms/step - loss: 0.2682\n",
      "Epoch 64/150\n",
      "482/482 [==============================] - 1s 1ms/step - loss: 0.2687\n",
      "Epoch 65/150\n",
      "482/482 [==============================] - 1s 1ms/step - loss: 0.2685\n",
      "Epoch 66/150\n",
      "482/482 [==============================] - 1s 1ms/step - loss: 0.2670\n",
      "Epoch 67/150\n",
      "482/482 [==============================] - 1s 1ms/step - loss: 0.2677\n",
      "Epoch 68/150\n",
      "482/482 [==============================] - 1s 1ms/step - loss: 0.2673\n",
      "Epoch 69/150\n",
      "482/482 [==============================] - 1s 1ms/step - loss: 0.2682\n",
      "Epoch 70/150\n",
      "482/482 [==============================] - 1s 1ms/step - loss: 0.2659\n",
      "Epoch 71/150\n",
      "482/482 [==============================] - 1s 1ms/step - loss: 0.2663\n",
      "Epoch 72/150\n",
      "482/482 [==============================] - 1s 1ms/step - loss: 0.2658\n",
      "Epoch 73/150\n",
      "482/482 [==============================] - 1s 1ms/step - loss: 0.2664\n",
      "Epoch 74/150\n",
      "482/482 [==============================] - 1s 1ms/step - loss: 0.2653\n",
      "Epoch 75/150\n",
      "482/482 [==============================] - 1s 1ms/step - loss: 0.2656\n",
      "Epoch 76/150\n",
      "482/482 [==============================] - 1s 1ms/step - loss: 0.2648\n",
      "Epoch 77/150\n",
      "482/482 [==============================] - 1s 1ms/step - loss: 0.2665\n",
      "Epoch 78/150\n",
      "482/482 [==============================] - 1s 1ms/step - loss: 0.2657\n",
      "Epoch 79/150\n",
      "482/482 [==============================] - 1s 1ms/step - loss: 0.2671\n",
      "Epoch 80/150\n",
      "482/482 [==============================] - 1s 1ms/step - loss: 0.2668\n",
      "Epoch 81/150\n",
      "482/482 [==============================] - 1s 1ms/step - loss: 0.2637\n",
      "Epoch 82/150\n",
      "482/482 [==============================] - 1s 1ms/step - loss: 0.2646\n",
      "Epoch 83/150\n",
      "482/482 [==============================] - 1s 1ms/step - loss: 0.2636\n",
      "Epoch 84/150\n",
      "482/482 [==============================] - 1s 1ms/step - loss: 0.2642\n",
      "Epoch 85/150\n",
      "482/482 [==============================] - 1s 1ms/step - loss: 0.2649\n",
      "Epoch 86/150\n",
      "482/482 [==============================] - 1s 1ms/step - loss: 0.2639\n",
      "Epoch 87/150\n",
      "482/482 [==============================] - 1s 1ms/step - loss: 0.2640\n",
      "Epoch 88/150\n",
      "482/482 [==============================] - 1s 1ms/step - loss: 0.2643\n",
      "Epoch 89/150\n",
      "482/482 [==============================] - 1s 2ms/step - loss: 0.2640\n",
      "Epoch 90/150\n",
      "482/482 [==============================] - 1s 2ms/step - loss: 0.2640\n",
      "Epoch 91/150\n",
      "482/482 [==============================] - 1s 1ms/step - loss: 0.2629\n",
      "Epoch 92/150\n",
      "482/482 [==============================] - 1s 1ms/step - loss: 0.2630\n",
      "Epoch 93/150\n",
      "482/482 [==============================] - 1s 1ms/step - loss: 0.2638\n",
      "Epoch 94/150\n",
      "482/482 [==============================] - 1s 1ms/step - loss: 0.2624\n",
      "Epoch 95/150\n",
      "482/482 [==============================] - 1s 1ms/step - loss: 0.2632\n",
      "Epoch 96/150\n",
      "482/482 [==============================] - 1s 1ms/step - loss: 0.2641\n",
      "Epoch 97/150\n",
      "482/482 [==============================] - 1s 2ms/step - loss: 0.2625\n",
      "Epoch 98/150\n",
      "482/482 [==============================] - 1s 2ms/step - loss: 0.2629\n",
      "Epoch 99/150\n",
      "482/482 [==============================] - 1s 1ms/step - loss: 0.2635\n",
      "Epoch 100/150\n",
      "482/482 [==============================] - 1s 1ms/step - loss: 0.2635\n",
      "Epoch 101/150\n",
      "482/482 [==============================] - 1s 1ms/step - loss: 0.2635\n",
      "Epoch 102/150\n",
      "482/482 [==============================] - 1s 1ms/step - loss: 0.2631\n",
      "Epoch 103/150\n",
      "482/482 [==============================] - 1s 1ms/step - loss: 0.2636\n",
      "Epoch 104/150\n",
      "482/482 [==============================] - 1s 1ms/step - loss: 0.2639\n",
      "Epoch 105/150\n",
      "482/482 [==============================] - 1s 2ms/step - loss: 0.2616\n",
      "Epoch 106/150\n",
      "482/482 [==============================] - 1s 1ms/step - loss: 0.2640\n",
      "Epoch 107/150\n",
      "482/482 [==============================] - 1s 1ms/step - loss: 0.2623\n",
      "Epoch 108/150\n",
      "482/482 [==============================] - 1s 1ms/step - loss: 0.2629\n",
      "Epoch 109/150\n",
      "482/482 [==============================] - 1s 1ms/step - loss: 0.2623\n",
      "Epoch 110/150\n",
      "482/482 [==============================] - 1s 1ms/step - loss: 0.2616\n",
      "Epoch 111/150\n",
      "482/482 [==============================] - 1s 1ms/step - loss: 0.2609\n",
      "Epoch 112/150\n",
      "482/482 [==============================] - 1s 1ms/step - loss: 0.2608\n",
      "Epoch 113/150\n",
      "482/482 [==============================] - 1s 1ms/step - loss: 0.2614\n",
      "Epoch 114/150\n",
      "482/482 [==============================] - 1s 1ms/step - loss: 0.2630\n",
      "Epoch 115/150\n",
      "482/482 [==============================] - 1s 1ms/step - loss: 0.2605\n",
      "Epoch 116/150\n",
      "482/482 [==============================] - 1s 1ms/step - loss: 0.2621\n",
      "Epoch 117/150\n",
      "482/482 [==============================] - 1s 1ms/step - loss: 0.2621\n",
      "Epoch 118/150\n",
      "482/482 [==============================] - 1s 1ms/step - loss: 0.2626\n",
      "Epoch 119/150\n",
      "482/482 [==============================] - 1s 1ms/step - loss: 0.2611\n",
      "Epoch 120/150\n",
      "482/482 [==============================] - 1s 1ms/step - loss: 0.2611\n",
      "Epoch 121/150\n",
      "482/482 [==============================] - 1s 1ms/step - loss: 0.2623\n",
      "Epoch 122/150\n",
      "482/482 [==============================] - 1s 1ms/step - loss: 0.2612\n",
      "Epoch 123/150\n",
      "482/482 [==============================] - 1s 1ms/step - loss: 0.2618\n",
      "Epoch 124/150\n",
      "482/482 [==============================] - 1s 1ms/step - loss: 0.2613\n",
      "Epoch 125/150\n",
      "482/482 [==============================] - 1s 1ms/step - loss: 0.2607\n",
      "Epoch 126/150\n",
      "482/482 [==============================] - 1s 2ms/step - loss: 0.2609\n",
      "Epoch 127/150\n",
      "482/482 [==============================] - 1s 1ms/step - loss: 0.2619\n",
      "Epoch 128/150\n",
      "482/482 [==============================] - 1s 1ms/step - loss: 0.2611\n",
      "Epoch 129/150\n",
      "482/482 [==============================] - 1s 1ms/step - loss: 0.2606\n",
      "Epoch 130/150\n",
      "482/482 [==============================] - 1s 1ms/step - loss: 0.2616\n",
      "Epoch 131/150\n",
      "482/482 [==============================] - 1s 2ms/step - loss: 0.2606\n",
      "Epoch 132/150\n",
      "482/482 [==============================] - 1s 1ms/step - loss: 0.2606\n",
      "Epoch 133/150\n",
      "482/482 [==============================] - 1s 1ms/step - loss: 0.2606\n",
      "Epoch 134/150\n",
      "482/482 [==============================] - 1s 1ms/step - loss: 0.2606\n",
      "Epoch 135/150\n",
      "482/482 [==============================] - 1s 1ms/step - loss: 0.2607\n",
      "Epoch 136/150\n",
      "482/482 [==============================] - 1s 1ms/step - loss: 0.2612\n",
      "Epoch 137/150\n",
      "482/482 [==============================] - 1s 1ms/step - loss: 0.2605\n",
      "Epoch 138/150\n",
      "482/482 [==============================] - 1s 1ms/step - loss: 0.2606\n",
      "Epoch 139/150\n",
      "482/482 [==============================] - 1s 1ms/step - loss: 0.2604\n",
      "Epoch 140/150\n",
      "482/482 [==============================] - 1s 1ms/step - loss: 0.2591\n",
      "Epoch 141/150\n",
      "482/482 [==============================] - 1s 1ms/step - loss: 0.2604\n",
      "Epoch 142/150\n",
      "482/482 [==============================] - 1s 1ms/step - loss: 0.2613\n",
      "Epoch 143/150\n",
      "482/482 [==============================] - 1s 1ms/step - loss: 0.2603\n",
      "Epoch 144/150\n",
      "482/482 [==============================] - 1s 1ms/step - loss: 0.2604\n",
      "Epoch 145/150\n",
      "482/482 [==============================] - 1s 1ms/step - loss: 0.2607\n",
      "Epoch 146/150\n",
      "482/482 [==============================] - 1s 1ms/step - loss: 0.2598\n",
      "Epoch 147/150\n",
      "482/482 [==============================] - 1s 1ms/step - loss: 0.2618\n",
      "Epoch 148/150\n",
      "482/482 [==============================] - 1s 1ms/step - loss: 0.2594\n",
      "Epoch 149/150\n",
      "482/482 [==============================] - 1s 1ms/step - loss: 0.2605\n",
      "Epoch 150/150\n",
      "482/482 [==============================] - 1s 1ms/step - loss: 0.2612\n"
     ]
    },
    {
     "data": {
      "text/plain": [
       "<keras.callbacks.History at 0x7fa5f8a4f9d0>"
      ]
     },
     "execution_count": 50,
     "metadata": {},
     "output_type": "execute_result"
    }
   ],
   "source": [
    "model.fit(X_train, y_train, epochs = 150, batch_size = 32 , verbose = 1)"
   ]
  },
  {
   "cell_type": "code",
   "execution_count": null,
   "metadata": {
    "id": "V-9xbTGXrWsX"
   },
   "outputs": [],
   "source": [
    "allPredict = model.predict(X)"
   ]
  },
  {
   "cell_type": "code",
   "execution_count": null,
   "metadata": {
    "colab": {
     "base_uri": "https://localhost:8080/"
    },
    "id": "lvRvm7nfhkbU",
    "outputId": "6f86aed1-452c-4410-8861-6d3258190740"
   },
   "outputs": [
    {
     "name": "stdout",
     "output_type": "stream",
     "text": [
      "Training Data MSE on original scale: 0.2613\n"
     ]
    }
   ],
   "source": [
    "trainScore_not_scaled = (mean_squared_error(y[:train_size], allPredict[:train_size, 0]))\n",
    "print('Training Data MSE on original scale: {0:.4f}'.format(trainScore_not_scaled))"
   ]
  },
  {
   "cell_type": "code",
   "execution_count": null,
   "metadata": {
    "colab": {
     "base_uri": "https://localhost:8080/"
    },
    "id": "DKK2MeV-reDS",
    "outputId": "6b971696-e008-4e4b-f8f5-cb0922687939"
   },
   "outputs": [
    {
     "name": "stdout",
     "output_type": "stream",
     "text": [
      "Validation Data MSE original scale: 0.2550\n"
     ]
    }
   ],
   "source": [
    "valScore_not_scaled = (mean_squared_error(y[train_size:], allPredict[train_size:,0]))\n",
    "print('Validation Data MSE original scale: {0:.4f}'.format(valScore_not_scaled))"
   ]
  },
  {
   "cell_type": "code",
   "execution_count": null,
   "metadata": {
    "id": "nHakAeLUmbL1"
   },
   "outputs": [],
   "source": [
    "#Standardising predictors for test set\n",
    "\n",
    "response = ['Withdraw']\n",
    "numerical_predictors = ['Shops','ATMs'] # the list all predictors\n",
    "\n",
    "# mu = ATM_test[numerical_predictors].mean() # mean for each feature\n",
    "# sigma = ATM_test[numerical_predictors].std() # std for each feature\n",
    "\n",
    "ATM_test[numerical_predictors] = (ATM_test[numerical_predictors] - mu) / sigma\n",
    "\n",
    "# Converting test set values into Python array\n",
    "ATM_test = ATM_test.values  \n",
    "\n",
    "# Data is set as type 'float'\n",
    "ATM_test = ATM_test.astype('float') \n"
   ]
  },
  {
   "cell_type": "code",
   "execution_count": null,
   "metadata": {
    "colab": {
     "base_uri": "https://localhost:8080/"
    },
    "id": "HDVeIEqZs_zE",
    "outputId": "b6aa5364-95f9-4c7a-beec-28a82f0bffef"
   },
   "outputs": [
    {
     "name": "stdout",
     "output_type": "stream",
     "text": [
      "Test Data MSE on original scale: 0.2432\n"
     ]
    }
   ],
   "source": [
    "# Split the dataset into input (X) and output variables (y)\n",
    "X_test = ATM_test[:,0:6]\n",
    "y_test = ATM_test[:,6]\n",
    "\n",
    "# Predicting\n",
    "allPredict = model.predict(X_test)\n",
    "\n",
    "#Test MSE\n",
    "test_error = (mean_squared_error(y_test, allPredict))\n",
    "print('Test Data MSE on original scale: {0:.4f}'.format(test_error))"
   ]
  },
  {
   "cell_type": "markdown",
   "metadata": {
    "id": "bXIgq04GRF7m"
   },
   "source": [
    "# **Evaluation of analytical methods**\n"
   ]
  },
  {
   "cell_type": "markdown",
   "metadata": {
    "id": "qu-WUkEWSHJi"
   },
   "source": [
    "|SLR||MLR||Ridge||LASSO||Enet||KNN||NN|\n",
    "|---||---||-----||-----||----||---||---|\n",
    "|17.7686||0.3108||6.2583||6.7418||6.7451||0.6101||0.2550|"
   ]
  },
  {
   "cell_type": "markdown",
   "metadata": {
    "id": "ZS8bSRkEc_ZM"
   },
   "source": [
    "<font color = purple>**Based off the analytical methods utilised, the lowest mean squared error achieved is from the neural networks model. Thus our selected cross validation mean squared error from all the other methods is 0.2550**</font>"
   ]
  },
  {
   "cell_type": "code",
   "execution_count": null,
   "metadata": {
    "colab": {
     "base_uri": "https://localhost:8080/"
    },
    "id": "t05T6D6mrFZv",
    "outputId": "c9e83601-7330-4e8c-8096-0e63ed32cc1c"
   },
   "outputs": [
    {
     "name": "stdout",
     "output_type": "stream",
     "text": [
      "0.243154618306369\n"
     ]
    }
   ],
   "source": [
    "print(test_error)"
   ]
  }
 ],
 "metadata": {
  "colab": {
   "collapsed_sections": [],
   "name": "Group_DFM_ImplementationPart2.ipynb",
   "provenance": []
  },
  "kernelspec": {
   "display_name": "Python 3 (ipykernel)",
   "language": "python",
   "name": "python3"
  },
  "language_info": {
   "codemirror_mode": {
    "name": "ipython",
    "version": 3
   },
   "file_extension": ".py",
   "mimetype": "text/x-python",
   "name": "python",
   "nbconvert_exporter": "python",
   "pygments_lexer": "ipython3",
   "version": "3.7.11"
  }
 },
 "nbformat": 4,
 "nbformat_minor": 1
}
