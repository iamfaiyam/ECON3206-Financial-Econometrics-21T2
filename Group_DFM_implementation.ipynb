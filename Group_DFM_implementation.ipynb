{
 "cells": [
  {
   "cell_type": "markdown",
   "metadata": {
    "id": "g1axQQZCY3cK"
   },
   "source": [
    "# ECON3203 - Group DFM - Implementation File\n",
    "\n",
    "<font color = purple> Faiyam Islam (z5258151) </font> \n",
    "\n",
    "<font color = purple> Mimi Nguyen (z5260968) </font>\n",
    "\n",
    "<font color = purple> Dharani Palanisamy (z5260276) </font>\n",
    "\n",
    "<font color = purple> Dharshini Loganathan (z5309765) </font>\n",
    "\n"
   ]
  },
  {
   "cell_type": "markdown",
   "metadata": {
    "id": "NZTZjjPOrVcV"
   },
   "source": [
    "This implementation file contains: \n",
    "\n",
    "1. Exploratory Data Analysis (EDA)\n",
    "2. Simple Linear Regression\n",
    "3. Multiple Linear Regression (with interaction terms)\n",
    "4. LASSO, Ridge and Elastic Net Regression \n",
    "\n",
    "Due to the time-consumption of KNN and Neural Networks, we have decided to implement those methods on a separate file. "
   ]
  },
  {
   "cell_type": "markdown",
   "metadata": {
    "id": "kQbq5B8XZFO5"
   },
   "source": [
    "# **Importing Packages**"
   ]
  },
  {
   "cell_type": "code",
   "execution_count": 1,
   "metadata": {
    "colab": {
     "base_uri": "https://localhost:8080/"
    },
    "id": "w99pv_mbY1Wz",
    "outputId": "3cd6aac2-2a90-4e3a-8aeb-e0e436239df3"
   },
   "outputs": [],
   "source": [
    "import pandas as pd \n",
    "import numpy as np \n",
    "import matplotlib.pyplot as plt \n",
    "import seaborn as sns\n",
    "import statsmodels.formula.api as smf \n",
    "import warnings \n",
    "warnings.filterwarnings('ignore')\n",
    "%matplotlib inline\n",
    "sns.set_context('notebook')\n",
    "sns.set_style('ticks')\n",
    "sns.set(style=\"ticks\", color_codes=True)\n",
    "from sklearn.linear_model import LinearRegression\n",
    "from sklearn.model_selection import cross_val_score"
   ]
  },
  {
   "cell_type": "markdown",
   "metadata": {
    "id": "ZuFP4FtJZO6E"
   },
   "source": [
    "All the implementations have been completed on google collaboratory, which is why this line of code below was required."
   ]
  },
  {
   "cell_type": "markdown",
   "metadata": {
    "id": "YnRdJkhsZzQK"
   },
   "source": [
    "# **Exploratory Data Analysis (EDA)**\n",
    "\n"
   ]
  },
  {
   "cell_type": "markdown",
   "metadata": {
    "id": "kYISKsaIZnAA"
   },
   "source": [
    "Conducting basic exploratory data analysis, including data cleaning and obtaining statistics for initial data exploration. "
   ]
  },
  {
   "cell_type": "code",
   "execution_count": 2,
   "metadata": {
    "colab": {
     "base_uri": "https://localhost:8080/",
     "height": 205
    },
    "id": "gw-xjvbYZInu",
    "outputId": "eaec775d-47a3-42eb-aec7-7ebb6b49090e"
   },
   "outputs": [
    {
     "data": {
      "text/html": [
       "<div>\n",
       "<style scoped>\n",
       "    .dataframe tbody tr th:only-of-type {\n",
       "        vertical-align: middle;\n",
       "    }\n",
       "\n",
       "    .dataframe tbody tr th {\n",
       "        vertical-align: top;\n",
       "    }\n",
       "\n",
       "    .dataframe thead th {\n",
       "        text-align: right;\n",
       "    }\n",
       "</style>\n",
       "<table border=\"1\" class=\"dataframe\">\n",
       "  <thead>\n",
       "    <tr style=\"text-align: right;\">\n",
       "      <th></th>\n",
       "      <th>Shops</th>\n",
       "      <th>ATMs</th>\n",
       "      <th>Downtown</th>\n",
       "      <th>Weekday</th>\n",
       "      <th>Center</th>\n",
       "      <th>High</th>\n",
       "      <th>Withdraw</th>\n",
       "    </tr>\n",
       "  </thead>\n",
       "  <tbody>\n",
       "    <tr>\n",
       "      <th>0</th>\n",
       "      <td>10.18</td>\n",
       "      <td>10</td>\n",
       "      <td>1</td>\n",
       "      <td>0</td>\n",
       "      <td>0</td>\n",
       "      <td>0</td>\n",
       "      <td>72.750556</td>\n",
       "    </tr>\n",
       "    <tr>\n",
       "      <th>1</th>\n",
       "      <td>9.74</td>\n",
       "      <td>10</td>\n",
       "      <td>1</td>\n",
       "      <td>1</td>\n",
       "      <td>0</td>\n",
       "      <td>0</td>\n",
       "      <td>66.720482</td>\n",
       "    </tr>\n",
       "    <tr>\n",
       "      <th>2</th>\n",
       "      <td>0.96</td>\n",
       "      <td>2</td>\n",
       "      <td>0</td>\n",
       "      <td>0</td>\n",
       "      <td>0</td>\n",
       "      <td>1</td>\n",
       "      <td>19.189516</td>\n",
       "    </tr>\n",
       "    <tr>\n",
       "      <th>3</th>\n",
       "      <td>9.58</td>\n",
       "      <td>9</td>\n",
       "      <td>1</td>\n",
       "      <td>1</td>\n",
       "      <td>0</td>\n",
       "      <td>1</td>\n",
       "      <td>67.388669</td>\n",
       "    </tr>\n",
       "    <tr>\n",
       "      <th>4</th>\n",
       "      <td>1.03</td>\n",
       "      <td>4</td>\n",
       "      <td>0</td>\n",
       "      <td>1</td>\n",
       "      <td>0</td>\n",
       "      <td>1</td>\n",
       "      <td>15.813127</td>\n",
       "    </tr>\n",
       "  </tbody>\n",
       "</table>\n",
       "</div>"
      ],
      "text/plain": [
       "   Shops  ATMs  Downtown  Weekday  Center  High   Withdraw\n",
       "0  10.18    10         1        0       0     0  72.750556\n",
       "1   9.74    10         1        1       0     0  66.720482\n",
       "2   0.96     2         0        0       0     1  19.189516\n",
       "3   9.58     9         1        1       0     1  67.388669\n",
       "4   1.03     4         0        1       0     1  15.813127"
      ]
     },
     "execution_count": 2,
     "metadata": {},
     "output_type": "execute_result"
    }
   ],
   "source": [
    "# Importing the ATM_training dataset \n",
    "train = pd.read_csv('ATM_training.csv') \n",
    "train.head()"
   ]
  },
  {
   "cell_type": "code",
   "execution_count": 3,
   "metadata": {
    "colab": {
     "base_uri": "https://localhost:8080/"
    },
    "id": "-Vd7vi6lZyx6",
    "outputId": "5784e215-8e80-4a43-8c40-27c22ea37201"
   },
   "outputs": [
    {
     "name": "stdout",
     "output_type": "stream",
     "text": [
      "<class 'pandas.core.frame.DataFrame'>\n",
      "RangeIndex: 22000 entries, 0 to 21999\n",
      "Data columns (total 7 columns):\n",
      " #   Column    Non-Null Count  Dtype  \n",
      "---  ------    --------------  -----  \n",
      " 0   Shops     22000 non-null  float64\n",
      " 1   ATMs      22000 non-null  int64  \n",
      " 2   Downtown  22000 non-null  int64  \n",
      " 3   Weekday   22000 non-null  int64  \n",
      " 4   Center    22000 non-null  int64  \n",
      " 5   High      22000 non-null  int64  \n",
      " 6   Withdraw  22000 non-null  float64\n",
      "dtypes: float64(2), int64(5)\n",
      "memory usage: 1.2 MB\n"
     ]
    }
   ],
   "source": [
    "# Exploring data types and null values\n",
    "train.info()"
   ]
  },
  {
   "cell_type": "code",
   "execution_count": 4,
   "metadata": {
    "colab": {
     "base_uri": "https://localhost:8080/",
     "height": 299
    },
    "id": "L7WuYWF6Zi2Z",
    "outputId": "021895aa-bec0-4efb-bd28-6ec701cbb3f0"
   },
   "outputs": [
    {
     "data": {
      "text/html": [
       "<div>\n",
       "<style scoped>\n",
       "    .dataframe tbody tr th:only-of-type {\n",
       "        vertical-align: middle;\n",
       "    }\n",
       "\n",
       "    .dataframe tbody tr th {\n",
       "        vertical-align: top;\n",
       "    }\n",
       "\n",
       "    .dataframe thead th {\n",
       "        text-align: right;\n",
       "    }\n",
       "</style>\n",
       "<table border=\"1\" class=\"dataframe\">\n",
       "  <thead>\n",
       "    <tr style=\"text-align: right;\">\n",
       "      <th></th>\n",
       "      <th>Shops</th>\n",
       "      <th>ATMs</th>\n",
       "      <th>Downtown</th>\n",
       "      <th>Weekday</th>\n",
       "      <th>Center</th>\n",
       "      <th>High</th>\n",
       "      <th>Withdraw</th>\n",
       "    </tr>\n",
       "  </thead>\n",
       "  <tbody>\n",
       "    <tr>\n",
       "      <th>count</th>\n",
       "      <td>22000.000000</td>\n",
       "      <td>22000.000000</td>\n",
       "      <td>22000.00000</td>\n",
       "      <td>22000.000000</td>\n",
       "      <td>22000.000000</td>\n",
       "      <td>22000.000000</td>\n",
       "      <td>22000.000000</td>\n",
       "    </tr>\n",
       "    <tr>\n",
       "      <th>mean</th>\n",
       "      <td>7.316373</td>\n",
       "      <td>7.937455</td>\n",
       "      <td>0.70200</td>\n",
       "      <td>0.714091</td>\n",
       "      <td>0.102455</td>\n",
       "      <td>0.301591</td>\n",
       "      <td>54.652818</td>\n",
       "    </tr>\n",
       "    <tr>\n",
       "      <th>std</th>\n",
       "      <td>4.118692</td>\n",
       "      <td>3.673415</td>\n",
       "      <td>0.45739</td>\n",
       "      <td>0.451857</td>\n",
       "      <td>0.303252</td>\n",
       "      <td>0.458959</td>\n",
       "      <td>25.099767</td>\n",
       "    </tr>\n",
       "    <tr>\n",
       "      <th>min</th>\n",
       "      <td>0.800000</td>\n",
       "      <td>0.000000</td>\n",
       "      <td>0.00000</td>\n",
       "      <td>0.000000</td>\n",
       "      <td>0.000000</td>\n",
       "      <td>0.000000</td>\n",
       "      <td>11.668197</td>\n",
       "    </tr>\n",
       "    <tr>\n",
       "      <th>25%</th>\n",
       "      <td>1.050000</td>\n",
       "      <td>4.000000</td>\n",
       "      <td>0.00000</td>\n",
       "      <td>0.000000</td>\n",
       "      <td>0.000000</td>\n",
       "      <td>0.000000</td>\n",
       "      <td>18.500386</td>\n",
       "    </tr>\n",
       "    <tr>\n",
       "      <th>50%</th>\n",
       "      <td>9.890000</td>\n",
       "      <td>9.000000</td>\n",
       "      <td>1.00000</td>\n",
       "      <td>1.000000</td>\n",
       "      <td>0.000000</td>\n",
       "      <td>0.000000</td>\n",
       "      <td>68.240749</td>\n",
       "    </tr>\n",
       "    <tr>\n",
       "      <th>75%</th>\n",
       "      <td>10.070000</td>\n",
       "      <td>11.000000</td>\n",
       "      <td>1.00000</td>\n",
       "      <td>1.000000</td>\n",
       "      <td>0.000000</td>\n",
       "      <td>1.000000</td>\n",
       "      <td>71.345778</td>\n",
       "    </tr>\n",
       "    <tr>\n",
       "      <th>max</th>\n",
       "      <td>10.830000</td>\n",
       "      <td>17.000000</td>\n",
       "      <td>1.00000</td>\n",
       "      <td>1.000000</td>\n",
       "      <td>1.000000</td>\n",
       "      <td>1.000000</td>\n",
       "      <td>103.964065</td>\n",
       "    </tr>\n",
       "  </tbody>\n",
       "</table>\n",
       "</div>"
      ],
      "text/plain": [
       "              Shops          ATMs     Downtown       Weekday        Center  \\\n",
       "count  22000.000000  22000.000000  22000.00000  22000.000000  22000.000000   \n",
       "mean       7.316373      7.937455      0.70200      0.714091      0.102455   \n",
       "std        4.118692      3.673415      0.45739      0.451857      0.303252   \n",
       "min        0.800000      0.000000      0.00000      0.000000      0.000000   \n",
       "25%        1.050000      4.000000      0.00000      0.000000      0.000000   \n",
       "50%        9.890000      9.000000      1.00000      1.000000      0.000000   \n",
       "75%       10.070000     11.000000      1.00000      1.000000      0.000000   \n",
       "max       10.830000     17.000000      1.00000      1.000000      1.000000   \n",
       "\n",
       "               High      Withdraw  \n",
       "count  22000.000000  22000.000000  \n",
       "mean       0.301591     54.652818  \n",
       "std        0.458959     25.099767  \n",
       "min        0.000000     11.668197  \n",
       "25%        0.000000     18.500386  \n",
       "50%        0.000000     68.240749  \n",
       "75%        1.000000     71.345778  \n",
       "max        1.000000    103.964065  "
      ]
     },
     "execution_count": 4,
     "metadata": {},
     "output_type": "execute_result"
    }
   ],
   "source": [
    "# Basic statistics of the covariates, including mean and standard deviation \n",
    "train.describe()"
   ]
  },
  {
   "cell_type": "code",
   "execution_count": 5,
   "metadata": {
    "colab": {
     "base_uri": "https://localhost:8080/"
    },
    "id": "uxJs0aW5WPfl",
    "outputId": "af81cb5a-8803-4b4c-9be5-4fbf72e905f0"
   },
   "outputs": [
    {
     "name": "stdout",
     "output_type": "stream",
     "text": [
      "0\n"
     ]
    }
   ],
   "source": [
    "# Checking for duplicate values\n",
    "duplicate = train.duplicated()\n",
    "print(duplicate.sum())"
   ]
  },
  {
   "cell_type": "code",
   "execution_count": 6,
   "metadata": {
    "colab": {
     "base_uri": "https://localhost:8080/",
     "height": 301
    },
    "id": "G-GoDUOpao5K",
    "outputId": "47eaba76-98f7-4c35-9b03-bba73b6987cf"
   },
   "outputs": [
    {
     "data": {
      "image/png": "[encoded data removed]",
      "text/plain": [
       "<Figure size 432x288 with 1 Axes>"
      ]
     },
     "metadata": {},
     "output_type": "display_data"
    }
   ],
   "source": [
    "# Histogram showcasing distribution of the number of shops within walking distance of the ATM (in 100)\n",
    "plt.hist(train['Shops'], color='#4c36ad', bins = 10)\n",
    "plt.xlabel(\"Shops\")\n",
    "plt.ylabel(\"Count\")\n",
    "plt.title(\"Number of shops\")\n",
    "plt.show()"
   ]
  },
  {
   "cell_type": "code",
   "execution_count": 7,
   "metadata": {
    "colab": {
     "base_uri": "https://localhost:8080/",
     "height": 301
    },
    "id": "Ph4-VXVZa-Xv",
    "outputId": "78f62cfd-b9af-44ff-d5e4-68c72cded43b"
   },
   "outputs": [
    {
     "data": {
      "image/png": "[encoded data removed]",
      "text/plain": [
       "<Figure size 432x288 with 1 Axes>"
      ]
     },
     "metadata": {},
     "output_type": "display_data"
    }
   ],
   "source": [
    "# Histogram of the number of ATMs within walking distance (in 10)\n",
    "plt.hist(train['ATMs'], bins=17,color ='#4c36ad')\n",
    "plt.xlabel(\"ATMs\")\n",
    "plt.ylabel(\"Count\")\n",
    "plt.title(\"Histogram of number of ATMs\")\n",
    "plt.show()"
   ]
  },
  {
   "cell_type": "code",
   "execution_count": 8,
   "metadata": {
    "colab": {
     "base_uri": "https://localhost:8080/",
     "height": 301
    },
    "id": "Jw4D0Cn6bC9g",
    "outputId": "ab04e31c-5405-45bd-b20f-2d4dc186dfa6"
   },
   "outputs": [
    {
     "data": {
      "image/png": "[encoded data removed]",
      "text/plain": [
       "<Figure size 432x288 with 1 Axes>"
      ]
     },
     "metadata": {},
     "output_type": "display_data"
    }
   ],
   "source": [
    "# Histogram of distribution of withdrawals amounts at local ATMs \n",
    "plt.hist(train['Withdraw'], color = '#4c36ad', bins = 20)\n",
    "plt.xlabel(\"Withdrawal\")\n",
    "plt.ylabel(\"Count\")\n",
    "plt.title(\"Histogram of withdrawals\")\n",
    "plt.show()"
   ]
  },
  {
   "cell_type": "code",
   "execution_count": 9,
   "metadata": {
    "colab": {
     "base_uri": "https://localhost:8080/",
     "height": 598
    },
    "id": "aQD3xo1HbKsd",
    "outputId": "59e670e9-2012-448e-968e-703b9c6cd707"
   },
   "outputs": [
    {
     "data": {
      "image/png": "[encoded data removed]",
      "text/plain": [
       "<Figure size 720x720 with 2 Axes>"
      ]
     },
     "metadata": {},
     "output_type": "display_data"
    }
   ],
   "source": [
    "# Heatmap displaying the correlation matrix of all the covariates\n",
    "plt.figure(figsize=(10,10))\n",
    "sns.heatmap(train.corr(),cbar=True,annot=True,cmap='Purples')\n",
    "plt.show()"
   ]
  },
  {
   "cell_type": "code",
   "execution_count": 10,
   "metadata": {
    "colab": {
     "base_uri": "https://localhost:8080/",
     "height": 1000
    },
    "id": "B_yWVCu7bQLp",
    "outputId": "dd0b3d54-9280-48f4-c86d-2b6b8e9acd28"
   },
   "outputs": [
    {
     "data": {
      "image/png": "[encoded data removed]",
      "text/plain": [
       "<Figure size 1260x1260 with 56 Axes>"
      ]
     },
     "metadata": {},
     "output_type": "display_data"
    }
   ],
   "source": [
    "# A general overview of pairwise correlation between variables \n",
    "sns.pairplot(train, palette ='#432371')\n",
    "plt.show()"
   ]
  },
  {
   "cell_type": "code",
   "execution_count": 11,
   "metadata": {
    "colab": {
     "base_uri": "https://localhost:8080/"
    },
    "id": "phB2jpEkFF4O",
    "outputId": "30f7858a-9f6e-4453-c5aa-679820bfd9c2"
   },
   "outputs": [
    {
     "name": "stdout",
     "output_type": "stream",
     "text": [
      "             Shops      ATMs  Downtown   Weekday    Center      High  Withdraw\n",
      "Shops     1.000000  0.872903  0.999131  0.013014  0.000004  0.001820  0.985797\n",
      "ATMs      0.872903  1.000000  0.873726  0.009766 -0.003306 -0.002616  0.824030\n",
      "Downtown  0.999131  0.873726  1.000000  0.012664 -0.000101  0.001782  0.983574\n",
      "Weekday   0.013014  0.009766  0.012664  1.000000 -0.007153 -0.006793 -0.050470\n",
      "Center    0.000004 -0.003306 -0.000101 -0.007153  1.000000  0.010521  0.088103\n",
      "High      0.001820 -0.002616  0.001782 -0.006793  0.010521  1.000000  0.021275\n",
      "Withdraw  0.985797  0.824030  0.983574 -0.050470  0.088103  0.021275  1.000000\n"
     ]
    }
   ],
   "source": [
    "# Numerical correlations between variables\n",
    "correlations = train.corr()\n",
    "print(correlations)"
   ]
  },
  {
   "cell_type": "code",
   "execution_count": 12,
   "metadata": {
    "colab": {
     "base_uri": "https://localhost:8080/",
     "height": 301
    },
    "id": "V21gqqs4BKBN",
    "outputId": "88f96b94-6186-4383-c7ee-52ffc2b3fc71"
   },
   "outputs": [
    {
     "data": {
      "image/png": "[encoded data removed]",
      "text/plain": [
       "<Figure size 432x288 with 1 Axes>"
      ]
     },
     "metadata": {},
     "output_type": "display_data"
    }
   ],
   "source": [
    "# Withdraw distribution based on ATM location\n",
    "sns.boxplot(data = train, x='Downtown', y='Withdraw', palette=['#432371',\"#FAAE7B\"]).set_title(\"Withdrawls based on ATM location - Downtown\")\n",
    "plt.show()"
   ]
  },
  {
   "cell_type": "code",
   "execution_count": 13,
   "metadata": {
    "colab": {
     "base_uri": "https://localhost:8080/",
     "height": 301
    },
    "id": "srsOrv9ICvUn",
    "outputId": "fe841807-9727-4b3c-dcb6-18e58c1a8684"
   },
   "outputs": [
    {
     "data": {
      "image/png": "[encoded data removed]",
      "text/plain": [
       "<Figure size 432x288 with 1 Axes>"
      ]
     },
     "metadata": {},
     "output_type": "display_data"
    }
   ],
   "source": [
    "# Withdraw distribution based on time of week\n",
    "sns.boxplot(data = train, x='Weekday', y='Withdraw', palette=['#432371',\"#FAAE7B\"]).set_title(\"Withdrawls based on time of\")\n",
    "plt.show()"
   ]
  },
  {
   "cell_type": "code",
   "execution_count": 14,
   "metadata": {
    "colab": {
     "base_uri": "https://localhost:8080/",
     "height": 301
    },
    "id": "PaiHwrkeDf1z",
    "outputId": "9f3d5117-3997-4bc2-d4da-eea3701bd568"
   },
   "outputs": [
    {
     "data": {
      "image/png": "[encoded data removed]",
      "text/plain": [
       "<Figure size 432x288 with 1 Axes>"
      ]
     },
     "metadata": {},
     "output_type": "display_data"
    }
   ],
   "source": [
    "# Withdraw distribution based on whether ATM is in a center\n",
    "sns.boxplot(data = train, x='Center', y='Withdraw', palette=['#432371',\"#FAAE7B\"]).set_title(\"Withdrawls based on ATM location - center\")\n",
    "plt.show()"
   ]
  },
  {
   "cell_type": "code",
   "execution_count": 15,
   "metadata": {
    "colab": {
     "base_uri": "https://localhost:8080/",
     "height": 301
    },
    "id": "7j4CMVMXrp0J",
    "outputId": "7eaaf9d2-b49d-4280-8c4e-24ccbb0f9955"
   },
   "outputs": [
    {
     "data": {
      "image/png": "[encoded data removed]",
      "text/plain": [
       "<Figure size 432x288 with 1 Axes>"
      ]
     },
     "metadata": {},
     "output_type": "display_data"
    }
   ],
   "source": [
    "# Withdraw distribution based on whether ATM had high cash demand in the previous month\n",
    "sns.boxplot(data = train, x = 'High', y='Withdraw', palette=['#432371',\"#FAAE7B\"]).set_title(\"Withdrawls based on cash demand of ATM\")\n",
    "plt.show()"
   ]
  },
  {
   "cell_type": "code",
   "execution_count": 16,
   "metadata": {
    "colab": {
     "base_uri": "https://localhost:8080/",
     "height": 301
    },
    "id": "AhNG1bMZBlRy",
    "outputId": "bddbb4e6-0954-4519-a645-7727da5d819f"
   },
   "outputs": [
    {
     "data": {
      "image/png": "[encoded data removed]",
      "text/plain": [
       "<Figure size 432x288 with 1 Axes>"
      ]
     },
     "metadata": {},
     "output_type": "display_data"
    }
   ],
   "source": [
    "# Effect of the number of shops within walking distance on withdrawal\n",
    "plt.scatter(data = train, x = 'Shops', y = 'Withdraw', color ='#4c36ad')\n",
    "plt.xlabel(\"Shops\")\n",
    "plt.ylabel(\"Withdrawal\")\n",
    "plt.title(\"Withdrawls based on shops within walking distance\")\n",
    "plt.show()"
   ]
  },
  {
   "cell_type": "code",
   "execution_count": 17,
   "metadata": {
    "colab": {
     "base_uri": "https://localhost:8080/",
     "height": 301
    },
    "id": "gbLXcZI2CNMj",
    "outputId": "6e836208-44f3-4159-e7a5-dc150299a95e"
   },
   "outputs": [
    {
     "data": {
      "image/png": "[encoded data removed]",
      "text/plain": [
       "<Figure size 432x288 with 1 Axes>"
      ]
     },
     "metadata": {},
     "output_type": "display_data"
    }
   ],
   "source": [
    "# Effect of the number of ATMs within walking distance on withdrawal\n",
    "plt.scatter(data = train, x = 'ATMs', y = 'Withdraw', color ='#4c36ad')\n",
    "plt.xlabel(\"ATMs\")\n",
    "plt.ylabel(\"Withdrawal\")\n",
    "plt.title(\"Withdrawls based on other ATMs within walking distance\")\n",
    "plt.show()"
   ]
  },
  {
   "cell_type": "markdown",
   "metadata": {
    "id": "DyJOVPXr2RZH"
   },
   "source": [
    "# **Simple Linear Regression**\n",
    "\n"
   ]
  },
  {
   "cell_type": "code",
   "execution_count": 18,
   "metadata": {
    "colab": {
     "base_uri": "https://localhost:8080/",
     "height": 205
    },
    "id": "eYZUCWVoF8sX",
    "outputId": "f99c6ee3-bb27-4b25-ef66-60c2646816e8"
   },
   "outputs": [
    {
     "data": {
      "text/html": [
       "<div>\n",
       "<style scoped>\n",
       "    .dataframe tbody tr th:only-of-type {\n",
       "        vertical-align: middle;\n",
       "    }\n",
       "\n",
       "    .dataframe tbody tr th {\n",
       "        vertical-align: top;\n",
       "    }\n",
       "\n",
       "    .dataframe thead th {\n",
       "        text-align: right;\n",
       "    }\n",
       "</style>\n",
       "<table border=\"1\" class=\"dataframe\">\n",
       "  <thead>\n",
       "    <tr style=\"text-align: right;\">\n",
       "      <th></th>\n",
       "      <th>Shops</th>\n",
       "      <th>ATMs</th>\n",
       "      <th>Downtown</th>\n",
       "      <th>Weekday</th>\n",
       "      <th>Center</th>\n",
       "      <th>High</th>\n",
       "      <th>Withdraw</th>\n",
       "    </tr>\n",
       "  </thead>\n",
       "  <tbody>\n",
       "    <tr>\n",
       "      <th>0</th>\n",
       "      <td>0.695276</td>\n",
       "      <td>0.561479</td>\n",
       "      <td>0.651523</td>\n",
       "      <td>-1.580349</td>\n",
       "      <td>-0.337853</td>\n",
       "      <td>-0.657119</td>\n",
       "      <td>72.750556</td>\n",
       "    </tr>\n",
       "    <tr>\n",
       "      <th>1</th>\n",
       "      <td>0.588446</td>\n",
       "      <td>0.561479</td>\n",
       "      <td>0.651523</td>\n",
       "      <td>0.632743</td>\n",
       "      <td>-0.337853</td>\n",
       "      <td>-0.657119</td>\n",
       "      <td>66.720482</td>\n",
       "    </tr>\n",
       "    <tr>\n",
       "      <th>2</th>\n",
       "      <td>-1.543299</td>\n",
       "      <td>-1.616331</td>\n",
       "      <td>-1.534796</td>\n",
       "      <td>-1.580349</td>\n",
       "      <td>-0.337853</td>\n",
       "      <td>1.521724</td>\n",
       "      <td>19.189516</td>\n",
       "    </tr>\n",
       "    <tr>\n",
       "      <th>3</th>\n",
       "      <td>0.549598</td>\n",
       "      <td>0.289253</td>\n",
       "      <td>0.651523</td>\n",
       "      <td>0.632743</td>\n",
       "      <td>-0.337853</td>\n",
       "      <td>1.521724</td>\n",
       "      <td>67.388669</td>\n",
       "    </tr>\n",
       "    <tr>\n",
       "      <th>4</th>\n",
       "      <td>-1.526303</td>\n",
       "      <td>-1.071879</td>\n",
       "      <td>-1.534796</td>\n",
       "      <td>0.632743</td>\n",
       "      <td>-0.337853</td>\n",
       "      <td>1.521724</td>\n",
       "      <td>15.813127</td>\n",
       "    </tr>\n",
       "  </tbody>\n",
       "</table>\n",
       "</div>"
      ],
      "text/plain": [
       "      Shops      ATMs  Downtown   Weekday    Center      High   Withdraw\n",
       "0  0.695276  0.561479  0.651523 -1.580349 -0.337853 -0.657119  72.750556\n",
       "1  0.588446  0.561479  0.651523  0.632743 -0.337853 -0.657119  66.720482\n",
       "2 -1.543299 -1.616331 -1.534796 -1.580349 -0.337853  1.521724  19.189516\n",
       "3  0.549598  0.289253  0.651523  0.632743 -0.337853  1.521724  67.388669\n",
       "4 -1.526303 -1.071879 -1.534796  0.632743 -0.337853  1.521724  15.813127"
      ]
     },
     "execution_count": 18,
     "metadata": {},
     "output_type": "execute_result"
    }
   ],
   "source": [
    "#Standardising predictors\n",
    "\n",
    "response = ['Withdraw']\n",
    "numerical_predictors = ['Shops','ATMs','Downtown','Weekday','High','Center'] #numerical variables: no dummies\n",
    "\n",
    "mu=train[numerical_predictors].mean() # mean for each feature\n",
    "sigma=train[numerical_predictors].std() # std for each feature\n",
    "\n",
    "train[numerical_predictors]=(train[numerical_predictors]-mu)/ sigma\n",
    "train.head()"
   ]
  },
  {
   "cell_type": "code",
   "execution_count": 19,
   "metadata": {
    "id": "CYGCT7o1O1Ao"
   },
   "outputs": [],
   "source": [
    "# Function to compute MSE\n",
    "\n",
    "def reg_test(predictors, response):    \n",
    "    lm = LinearRegression()\n",
    "    scores = cross_val_score(lm, train[predictors], train[response], cv=10, scoring = 'neg_mean_squared_error')\n",
    "        # taking the average of scores across 10 folds\n",
    "    cv_score = np.mean(scores)   \n",
    "    return cv_score \n",
    "    "
   ]
  },
  {
   "cell_type": "code",
   "execution_count": 20,
   "metadata": {
    "colab": {
     "base_uri": "https://localhost:8080/"
    },
    "id": "BkE-SLKFGxbA",
    "outputId": "0acdf44e-c299-4a8c-d9e9-e949d8eae107"
   },
   "outputs": [
    {
     "name": "stdout",
     "output_type": "stream",
     "text": [
      "                            OLS Regression Results                            \n",
      "==============================================================================\n",
      "Dep. Variable:               Withdraw   R-squared:                       0.972\n",
      "Model:                            OLS   Adj. R-squared:                  0.972\n",
      "Method:                 Least Squares   F-statistic:                 7.580e+05\n",
      "Date:                Fri, 12 Nov 2021   Prob (F-statistic):               0.00\n",
      "Time:                        22:18:38   Log-Likelihood:                -62868.\n",
      "No. Observations:               22000   AIC:                         1.257e+05\n",
      "Df Residuals:                   21998   BIC:                         1.258e+05\n",
      "Df Model:                           1                                         \n",
      "Covariance Type:            nonrobust                                         \n",
      "==============================================================================\n",
      "                 coef    std err          t      P>|t|      [0.025      0.975]\n",
      "------------------------------------------------------------------------------\n",
      "Intercept     54.6528      0.028   1923.056      0.000      54.597      54.709\n",
      "Shops         24.7433      0.028    870.616      0.000      24.688      24.799\n",
      "==============================================================================\n",
      "Omnibus:                    17120.298   Durbin-Watson:                   1.985\n",
      "Prob(Omnibus):                  0.000   Jarque-Bera (JB):           381337.712\n",
      "Skew:                           3.649   Prob(JB):                         0.00\n",
      "Kurtosis:                      22.046   Cond. No.                         1.00\n",
      "==============================================================================\n",
      "\n",
      "Notes:\n",
      "[1] Standard Errors assume that the covariance matrix of the errors is correctly specified.\n"
     ]
    }
   ],
   "source": [
    "formula = \"Withdraw ~ Shops\"\n",
    "model_formula = smf.ols(formula = formula, data = train)\n",
    "results_formula = model_formula.fit()\n",
    "print(results_formula.summary())"
   ]
  },
  {
   "cell_type": "code",
   "execution_count": 21,
   "metadata": {
    "colab": {
     "base_uri": "https://localhost:8080/"
    },
    "id": "vyTIAPeeOxS3",
    "outputId": "aac035fd-87d9-487f-c211-dcaf17c41f65"
   },
   "outputs": [
    {
     "name": "stdout",
     "output_type": "stream",
     "text": [
      "Cross validation MSE : 17.7686\n"
     ]
    }
   ],
   "source": [
    "response = 'Withdraw'\n",
    "predictors = ['Shops']\n",
    "cv_rmse  =  reg_test(predictors, response)*-1 \n",
    "print('Cross validation MSE : {}'.format(cv_rmse.round(4)))"
   ]
  },
  {
   "cell_type": "code",
   "execution_count": 22,
   "metadata": {
    "colab": {
     "base_uri": "https://localhost:8080/"
    },
    "id": "CdM9eveZHwl1",
    "outputId": "0e205a71-578b-426e-c890-0cc6a9dab5f5"
   },
   "outputs": [
    {
     "name": "stdout",
     "output_type": "stream",
     "text": [
      "                            OLS Regression Results                            \n",
      "==============================================================================\n",
      "Dep. Variable:               Withdraw   R-squared:                       0.679\n",
      "Model:                            OLS   Adj. R-squared:                  0.679\n",
      "Method:                 Least Squares   F-statistic:                 4.654e+04\n",
      "Date:                Fri, 12 Nov 2021   Prob (F-statistic):               0.00\n",
      "Time:                        22:18:38   Log-Likelihood:                -89619.\n",
      "No. Observations:               22000   AIC:                         1.792e+05\n",
      "Df Residuals:                   21998   BIC:                         1.793e+05\n",
      "Df Model:                           1                                         \n",
      "Covariance Type:            nonrobust                                         \n",
      "==============================================================================\n",
      "                 coef    std err          t      P>|t|      [0.025      0.975]\n",
      "------------------------------------------------------------------------------\n",
      "Intercept     54.6528      0.096    570.044      0.000      54.465      54.841\n",
      "ATMs          20.6830      0.096    215.724      0.000      20.495      20.871\n",
      "==============================================================================\n",
      "Omnibus:                      832.081   Durbin-Watson:                   1.999\n",
      "Prob(Omnibus):                  0.000   Jarque-Bera (JB):              928.269\n",
      "Skew:                           0.498   Prob(JB):                    2.68e-202\n",
      "Kurtosis:                       3.150   Cond. No.                         1.00\n",
      "==============================================================================\n",
      "\n",
      "Notes:\n",
      "[1] Standard Errors assume that the covariance matrix of the errors is correctly specified.\n"
     ]
    }
   ],
   "source": [
    "formula = \"Withdraw ~ ATMs\"\n",
    "model_formula = smf.ols(formula = formula, data = train)\n",
    "results_formula = model_formula.fit()\n",
    "print(results_formula.summary())"
   ]
  },
  {
   "cell_type": "code",
   "execution_count": 23,
   "metadata": {
    "colab": {
     "base_uri": "https://localhost:8080/"
    },
    "id": "NLlrtQO-MQfs",
    "outputId": "a4e503cd-b739-419a-da05-cf419fbf2a31"
   },
   "outputs": [
    {
     "name": "stdout",
     "output_type": "stream",
     "text": [
      "Cross validation MSE : 202.2269\n"
     ]
    }
   ],
   "source": [
    "response = 'Withdraw'\n",
    "predictors = ['ATMs']\n",
    "cv_rmse  =  reg_test(predictors, response)*-1 \n",
    "print('Cross validation MSE : {}'.format(cv_rmse.round(4)))"
   ]
  },
  {
   "cell_type": "code",
   "execution_count": 24,
   "metadata": {
    "colab": {
     "base_uri": "https://localhost:8080/"
    },
    "id": "QexBJEB8DYEJ",
    "outputId": "3d6b666a-616b-42b9-da5a-227c70b8d8f5"
   },
   "outputs": [
    {
     "name": "stdout",
     "output_type": "stream",
     "text": [
      "                            OLS Regression Results                            \n",
      "==============================================================================\n",
      "Dep. Variable:               Withdraw   R-squared:                       0.967\n",
      "Model:                            OLS   Adj. R-squared:                  0.967\n",
      "Method:                 Least Squares   F-statistic:                 6.532e+05\n",
      "Date:                Fri, 12 Nov 2021   Prob (F-statistic):               0.00\n",
      "Time:                        22:18:38   Log-Likelihood:                -64455.\n",
      "No. Observations:               22000   AIC:                         1.289e+05\n",
      "Df Residuals:                   21998   BIC:                         1.289e+05\n",
      "Df Model:                           1                                         \n",
      "Covariance Type:            nonrobust                                         \n",
      "==============================================================================\n",
      "                 coef    std err          t      P>|t|      [0.025      0.975]\n",
      "------------------------------------------------------------------------------\n",
      "Intercept     54.6528      0.031   1789.184      0.000      54.593      54.713\n",
      "Downtown      24.6875      0.031    808.182      0.000      24.628      24.747\n",
      "==============================================================================\n",
      "Omnibus:                    14483.684   Durbin-Watson:                   1.977\n",
      "Prob(Omnibus):                  0.000   Jarque-Bera (JB):           231156.839\n",
      "Skew:                           2.966   Prob(JB):                         0.00\n",
      "Kurtosis:                      17.730   Cond. No.                         1.00\n",
      "==============================================================================\n",
      "\n",
      "Notes:\n",
      "[1] Standard Errors assume that the covariance matrix of the errors is correctly specified.\n"
     ]
    }
   ],
   "source": [
    "formula = \"Withdraw ~ Downtown\"\n",
    "model_formula = smf.ols(formula = formula, data = train)\n",
    "results_formula = model_formula.fit()\n",
    "print(results_formula.summary())"
   ]
  },
  {
   "cell_type": "code",
   "execution_count": 25,
   "metadata": {
    "colab": {
     "base_uri": "https://localhost:8080/"
    },
    "id": "S4gQ94TDDcjJ",
    "outputId": "75876315-281a-4b1e-d227-885b25784833"
   },
   "outputs": [
    {
     "name": "stdout",
     "output_type": "stream",
     "text": [
      "Cross validation MSE : 20.5269\n"
     ]
    }
   ],
   "source": [
    "response = 'Withdraw'\n",
    "predictors = ['Downtown']\n",
    "cv_rmse  =  reg_test(predictors, response)*-1 \n",
    "print('Cross validation MSE : {}'.format(cv_rmse.round(4)))"
   ]
  },
  {
   "cell_type": "markdown",
   "metadata": {
    "id": "01_yP9FYHfHr"
   },
   "source": [
    "<font color = purple>**From these two simple linear regression, the smallest mean squared error is 17.7686**</font>"
   ]
  },
  {
   "cell_type": "markdown",
   "metadata": {
    "id": "VMJQTB_CRJ3U"
   },
   "source": [
    "# **Multiple Linear Regression**"
   ]
  },
  {
   "cell_type": "code",
   "execution_count": 26,
   "metadata": {
    "id": "_LckJp25W5kt"
   },
   "outputs": [],
   "source": [
    "from sklearn.linear_model import LinearRegression\n",
    "from sklearn.model_selection import cross_val_score"
   ]
  },
  {
   "cell_type": "code",
   "execution_count": 27,
   "metadata": {
    "id": "Yix5xDTRW5-J"
   },
   "outputs": [],
   "source": [
    "def reg_test(predictors, response):      \n",
    "    lm = LinearRegression()\n",
    "    scores = cross_val_score(lm, train[predictors], train[response], cv=10, scoring = 'neg_mean_squared_error')\n",
    "    cv_score = np.mean(scores)\n",
    "    return cv_score"
   ]
  },
  {
   "cell_type": "code",
   "execution_count": 28,
   "metadata": {
    "colab": {
     "base_uri": "https://localhost:8080/"
    },
    "id": "8ff68PyuTQeD",
    "outputId": "2df18a9f-c567-43ed-b8e6-81832ed50e82"
   },
   "outputs": [
    {
     "name": "stdout",
     "output_type": "stream",
     "text": [
      "                            OLS Regression Results                            \n",
      "==============================================================================\n",
      "Dep. Variable:               Withdraw   R-squared:                       0.990\n",
      "Model:                            OLS   Adj. R-squared:                  0.990\n",
      "Method:                 Least Squares   F-statistic:                 3.656e+05\n",
      "Date:                Fri, 12 Nov 2021   Prob (F-statistic):               0.00\n",
      "Time:                        22:18:38   Log-Likelihood:                -51380.\n",
      "No. Observations:               22000   AIC:                         1.028e+05\n",
      "Df Residuals:                   21993   BIC:                         1.028e+05\n",
      "Df Model:                           6                                         \n",
      "Covariance Type:            nonrobust                                         \n",
      "==============================================================================\n",
      "                 coef    std err          t      P>|t|      [0.025      0.975]\n",
      "------------------------------------------------------------------------------\n",
      "Intercept     54.6528      0.017   3241.301      0.000      54.620      54.686\n",
      "Shops         44.5389      0.405    110.062      0.000      43.746      45.332\n",
      "ATMs          -3.7088      0.035   -106.982      0.000      -3.777      -3.641\n",
      "Downtown     -16.5528      0.406    -40.781      0.000     -17.348     -15.757\n",
      "Weekday       -1.5820      0.017    -93.806      0.000      -1.615      -1.549\n",
      "Center         2.1813      0.017    129.352      0.000       2.148       2.214\n",
      "High           0.4390      0.017     26.035      0.000       0.406       0.472\n",
      "==============================================================================\n",
      "Omnibus:                    17745.344   Durbin-Watson:                   1.998\n",
      "Prob(Omnibus):                  0.000   Jarque-Bera (JB):           468940.833\n",
      "Skew:                           3.781   Prob(JB):                         0.00\n",
      "Kurtosis:                      24.316   Cond. No.                         57.2\n",
      "==============================================================================\n",
      "\n",
      "Notes:\n",
      "[1] Standard Errors assume that the covariance matrix of the errors is correctly specified.\n"
     ]
    }
   ],
   "source": [
    "#BASE MODEL\n",
    "\n",
    "formula = \"Withdraw ~ Shops + ATMs + Downtown + Weekday + Center + High\"\n",
    "model_formula = smf.ols(formula = formula, data = train)\n",
    "results_formula = model_formula.fit()\n",
    "print(results_formula.summary())"
   ]
  },
  {
   "cell_type": "code",
   "execution_count": 29,
   "metadata": {
    "colab": {
     "base_uri": "https://localhost:8080/"
    },
    "id": "M8J3otoJFn0F",
    "outputId": "0fa57009-7ed9-4392-9fe0-e5753b4cd4b1"
   },
   "outputs": [
    {
     "name": "stdout",
     "output_type": "stream",
     "text": [
      "Cross validation MSE : 6.2578\n"
     ]
    }
   ],
   "source": [
    "response = 'Withdraw'\n",
    "predictors = ['Shops','ATMs','Weekday','High', 'Center', 'Downtown']\n",
    "cv_rmse = reg_test(predictors, response)*-1 \n",
    "print('Cross validation MSE : {}'.format(cv_rmse.round(4)))"
   ]
  },
  {
   "cell_type": "code",
   "execution_count": 30,
   "metadata": {
    "colab": {
     "base_uri": "https://localhost:8080/"
    },
    "id": "E7zom2Y306FK",
    "outputId": "9ffb771b-b4c5-45c6-c362-0fcccf2d1c04"
   },
   "outputs": [
    {
     "name": "stdout",
     "output_type": "stream",
     "text": [
      "                            OLS Regression Results                            \n",
      "==============================================================================\n",
      "Dep. Variable:               Withdraw   R-squared:                       0.989\n",
      "Model:                            OLS   Adj. R-squared:                  0.989\n",
      "Method:                 Least Squares   F-statistic:                 4.076e+05\n",
      "Date:                Fri, 12 Nov 2021   Prob (F-statistic):               0.00\n",
      "Time:                        22:18:38   Log-Likelihood:                -52182.\n",
      "No. Observations:               22000   AIC:                         1.044e+05\n",
      "Df Residuals:                   21994   BIC:                         1.044e+05\n",
      "Df Model:                           5                                         \n",
      "Covariance Type:            nonrobust                                         \n",
      "==============================================================================\n",
      "                 coef    std err          t      P>|t|      [0.025      0.975]\n",
      "------------------------------------------------------------------------------\n",
      "Intercept     54.6528      0.017   3125.359      0.000      54.619      54.687\n",
      "Shops         28.0963      0.036    783.808      0.000      28.026      28.167\n",
      "ATMs          -3.8186      0.036   -106.533      0.000      -3.889      -3.748\n",
      "Weekday       -1.5766      0.017    -90.142      0.000      -1.611      -1.542\n",
      "High           0.4392      0.017     25.113      0.000       0.405       0.473\n",
      "Center         2.1827      0.017    124.806      0.000       2.148       2.217\n",
      "==============================================================================\n",
      "Omnibus:                    16380.533   Durbin-Watson:                   1.989\n",
      "Prob(Omnibus):                  0.000   Jarque-Bera (JB):           367255.332\n",
      "Skew:                           3.406   Prob(JB):                         0.00\n",
      "Kurtosis:                      21.821   Cond. No.                         3.84\n",
      "==============================================================================\n",
      "\n",
      "Notes:\n",
      "[1] Standard Errors assume that the covariance matrix of the errors is correctly specified.\n"
     ]
    }
   ],
   "source": [
    "formula = \"Withdraw ~ Shops + ATMs + Weekday + High + Center\"\n",
    "model_formula = smf.ols(formula = formula, data = train)\n",
    "results_formula = model_formula.fit()\n",
    "print(results_formula.summary())"
   ]
  },
  {
   "cell_type": "code",
   "execution_count": 31,
   "metadata": {
    "colab": {
     "base_uri": "https://localhost:8080/"
    },
    "id": "G8n1dU_KFvxH",
    "outputId": "a375ab97-10d5-4953-f9fd-4bbed7f6e6e8"
   },
   "outputs": [
    {
     "name": "stdout",
     "output_type": "stream",
     "text": [
      "Cross validation MSE : 6.7306\n"
     ]
    }
   ],
   "source": [
    "response = 'Withdraw'\n",
    "predictors = ['Shops','ATMs','Weekday','High', 'Center']\n",
    "cv_rmse = reg_test(predictors, response)*-1 \n",
    "print('Cross validation MSE : {}'.format(cv_rmse.round(4)))"
   ]
  },
  {
   "cell_type": "code",
   "execution_count": 32,
   "metadata": {
    "colab": {
     "base_uri": "https://localhost:8080/"
    },
    "id": "L5TEprIiF3c0",
    "outputId": "4fe57fd4-1f37-4f76-b822-e83a7e3bf48c"
   },
   "outputs": [
    {
     "name": "stdout",
     "output_type": "stream",
     "text": [
      "                            OLS Regression Results                            \n",
      "==============================================================================\n",
      "Dep. Variable:               Withdraw   R-squared:                       0.989\n",
      "Model:                            OLS   Adj. R-squared:                  0.989\n",
      "Method:                 Least Squares   F-statistic:                 4.952e+05\n",
      "Date:                Fri, 12 Nov 2021   Prob (F-statistic):               0.00\n",
      "Time:                        22:18:38   Log-Likelihood:                -52493.\n",
      "No. Observations:               22000   AIC:                         1.050e+05\n",
      "Df Residuals:                   21995   BIC:                         1.050e+05\n",
      "Df Model:                           4                                         \n",
      "Covariance Type:            nonrobust                                         \n",
      "==============================================================================\n",
      "                 coef    std err          t      P>|t|      [0.025      0.975]\n",
      "------------------------------------------------------------------------------\n",
      "Intercept     54.6528      0.018   3081.563      0.000      54.618      54.688\n",
      "Shops         28.1039      0.036    773.060      0.000      28.033      28.175\n",
      "ATMs          -3.8264      0.036   -105.256      0.000      -3.898      -3.755\n",
      "Weekday       -1.5795      0.018    -89.048      0.000      -1.614      -1.545\n",
      "Center         2.1873      0.018    123.321      0.000       2.153       2.222\n",
      "==============================================================================\n",
      "Omnibus:                    15796.588   Durbin-Watson:                   1.988\n",
      "Prob(Omnibus):                  0.000   Jarque-Bera (JB):           326451.409\n",
      "Skew:                           3.257   Prob(JB):                         0.00\n",
      "Kurtosis:                      20.712   Cond. No.                         3.84\n",
      "==============================================================================\n",
      "\n",
      "Notes:\n",
      "[1] Standard Errors assume that the covariance matrix of the errors is correctly specified.\n"
     ]
    }
   ],
   "source": [
    "formula = \"Withdraw ~ Shops + ATMs + Weekday + Center\"\n",
    "model_formula = smf.ols(formula = formula, data = train)\n",
    "results_formula = model_formula.fit()\n",
    "print(results_formula.summary())"
   ]
  },
  {
   "cell_type": "code",
   "execution_count": 33,
   "metadata": {
    "colab": {
     "base_uri": "https://localhost:8080/"
    },
    "id": "39dP3gmcAhUk",
    "outputId": "5a9092b1-881c-4fc2-ddc5-7f4e9bc3bc3f"
   },
   "outputs": [
    {
     "name": "stdout",
     "output_type": "stream",
     "text": [
      "Cross validation MSE : 6.923\n"
     ]
    }
   ],
   "source": [
    "response = 'Withdraw'\n",
    "predictors = ['Shops','ATMs','Weekday','Center']\n",
    "cv_rmse  =  reg_test(predictors, response)*-1\n",
    "print('Cross validation MSE : {}'.format(cv_rmse.round(4)))"
   ]
  },
  {
   "cell_type": "markdown",
   "metadata": {
    "id": "u0e9NvRrhy5L"
   },
   "source": [
    "# **Multiple Linear Regression (with interaction terms)**\n"
   ]
  },
  {
   "cell_type": "markdown",
   "metadata": {
    "id": "ywYWQKGYih6X"
   },
   "source": [
    "The incentive behind the inclusion of interaction terms in Multiple Linear Regression is because there is an inherent relationship between some of these covariates. Interaction terms will allow us to expand the understanding of these relationships among the variables."
   ]
  },
  {
   "cell_type": "code",
   "execution_count": 34,
   "metadata": {
    "colab": {
     "base_uri": "https://localhost:8080/",
     "height": 205
    },
    "id": "9fKXMUc9i8B9",
    "outputId": "04989fc9-7982-414e-fbc7-ea829a9505da"
   },
   "outputs": [
    {
     "data": {
      "text/html": [
       "<div>\n",
       "<style scoped>\n",
       "    .dataframe tbody tr th:only-of-type {\n",
       "        vertical-align: middle;\n",
       "    }\n",
       "\n",
       "    .dataframe tbody tr th {\n",
       "        vertical-align: top;\n",
       "    }\n",
       "\n",
       "    .dataframe thead th {\n",
       "        text-align: right;\n",
       "    }\n",
       "</style>\n",
       "<table border=\"1\" class=\"dataframe\">\n",
       "  <thead>\n",
       "    <tr style=\"text-align: right;\">\n",
       "      <th></th>\n",
       "      <th>Shops</th>\n",
       "      <th>ATMs</th>\n",
       "      <th>Downtown</th>\n",
       "      <th>Weekday</th>\n",
       "      <th>Center</th>\n",
       "      <th>High</th>\n",
       "      <th>Withdraw</th>\n",
       "    </tr>\n",
       "  </thead>\n",
       "  <tbody>\n",
       "    <tr>\n",
       "      <th>0</th>\n",
       "      <td>10.18</td>\n",
       "      <td>10</td>\n",
       "      <td>1</td>\n",
       "      <td>0</td>\n",
       "      <td>0</td>\n",
       "      <td>0</td>\n",
       "      <td>72.750556</td>\n",
       "    </tr>\n",
       "    <tr>\n",
       "      <th>1</th>\n",
       "      <td>9.74</td>\n",
       "      <td>10</td>\n",
       "      <td>1</td>\n",
       "      <td>1</td>\n",
       "      <td>0</td>\n",
       "      <td>0</td>\n",
       "      <td>66.720482</td>\n",
       "    </tr>\n",
       "    <tr>\n",
       "      <th>2</th>\n",
       "      <td>0.96</td>\n",
       "      <td>2</td>\n",
       "      <td>0</td>\n",
       "      <td>0</td>\n",
       "      <td>0</td>\n",
       "      <td>1</td>\n",
       "      <td>19.189516</td>\n",
       "    </tr>\n",
       "    <tr>\n",
       "      <th>3</th>\n",
       "      <td>9.58</td>\n",
       "      <td>9</td>\n",
       "      <td>1</td>\n",
       "      <td>1</td>\n",
       "      <td>0</td>\n",
       "      <td>1</td>\n",
       "      <td>67.388669</td>\n",
       "    </tr>\n",
       "    <tr>\n",
       "      <th>4</th>\n",
       "      <td>1.03</td>\n",
       "      <td>4</td>\n",
       "      <td>0</td>\n",
       "      <td>1</td>\n",
       "      <td>0</td>\n",
       "      <td>1</td>\n",
       "      <td>15.813127</td>\n",
       "    </tr>\n",
       "  </tbody>\n",
       "</table>\n",
       "</div>"
      ],
      "text/plain": [
       "   Shops  ATMs  Downtown  Weekday  Center  High   Withdraw\n",
       "0  10.18    10         1        0       0     0  72.750556\n",
       "1   9.74    10         1        1       0     0  66.720482\n",
       "2   0.96     2         0        0       0     1  19.189516\n",
       "3   9.58     9         1        1       0     1  67.388669\n",
       "4   1.03     4         0        1       0     1  15.813127"
      ]
     },
     "execution_count": 34,
     "metadata": {},
     "output_type": "execute_result"
    }
   ],
   "source": [
    "train = pd.read_csv('ATM_training.csv')\n",
    "train.head()"
   ]
  },
  {
   "cell_type": "code",
   "execution_count": 35,
   "metadata": {
    "id": "ytIZieGFi8T2"
   },
   "outputs": [],
   "source": [
    "# Creating two-way interaction terms\n",
    "train['Shops_Weekday'] = train['Shops']*train['Weekday'] \n",
    "train['Shops_Center'] = train['Shops']*train['Center'] \n",
    "train['Center_Weekday'] = train['Weekday']*train['Center'] \n",
    "\n",
    "# Creating 3-way interactions\n",
    "train['Center_Weekday_Shops'] = train['Weekday']*train['Center']*train['Shops'] "
   ]
  },
  {
   "cell_type": "code",
   "execution_count": 36,
   "metadata": {
    "id": "hRTSmcIbi-6t"
   },
   "outputs": [],
   "source": [
    "#Standardising predictors\n",
    "\n",
    "response = ['Withdraw']\n",
    "numerical_predictors = [x for x in list(train.columns) if x not in response] # the list all predictors\n",
    "\n",
    "mu = train[numerical_predictors].mean() # mean for each feature\n",
    "sigma = train[numerical_predictors].std() # std for each feature\n",
    "\n",
    "train[numerical_predictors] = (train[numerical_predictors]-mu)/sigma\n"
   ]
  },
  {
   "cell_type": "code",
   "execution_count": 37,
   "metadata": {
    "id": "a4I45Skh2QSd"
   },
   "outputs": [],
   "source": [
    "# Function that computes CV for different interaction models\n",
    "def reg_test(predictors, response):     \n",
    "    lm = LinearRegression()\n",
    "    scores = cross_val_score(lm, train[predictors], train[response], cv = 10, scoring = 'neg_mean_squared_error')\n",
    "    cv_score = np.mean(scores)\n",
    "    return cv_score"
   ]
  },
  {
   "cell_type": "markdown",
   "metadata": {
    "id": "MTvcBgHMjP2s"
   },
   "source": [
    "Now, performing multiple linear regression using various interaction terms, we will select the model with the lowest mean squared error (MSE)"
   ]
  },
  {
   "cell_type": "code",
   "execution_count": 38,
   "metadata": {
    "colab": {
     "base_uri": "https://localhost:8080/"
    },
    "id": "NCQghUiRi_zb",
    "outputId": "8b34856d-2663-47e4-d207-0f5176f6fff3"
   },
   "outputs": [
    {
     "name": "stdout",
     "output_type": "stream",
     "text": [
      "Cross validation MSE : 6.1066\n"
     ]
    }
   ],
   "source": [
    "response = 'Withdraw'\n",
    "predictors = ['Shops','ATMs', 'Downtown', 'Weekday', 'High', 'Center','Shops_Weekday']\n",
    "cv_rmse = reg_test(predictors, response)*-1 \n",
    "\n",
    "print('Cross validation MSE : {}'.format(cv_rmse.round(4)))"
   ]
  },
  {
   "cell_type": "code",
   "execution_count": 39,
   "metadata": {
    "colab": {
     "base_uri": "https://localhost:8080/"
    },
    "id": "GK1RH5xlUu5I",
    "outputId": "0e78ed2e-11d8-4fac-b096-a743139e1170"
   },
   "outputs": [
    {
     "name": "stdout",
     "output_type": "stream",
     "text": [
      "                            OLS Regression Results                            \n",
      "==============================================================================\n",
      "Dep. Variable:               Withdraw   R-squared:                       0.990\n",
      "Model:                            OLS   Adj. R-squared:                  0.990\n",
      "Method:                 Least Squares   F-statistic:                 3.212e+05\n",
      "Date:                Fri, 12 Nov 2021   Prob (F-statistic):               0.00\n",
      "Time:                        22:18:39   Log-Likelihood:                -51111.\n",
      "No. Observations:               22000   AIC:                         1.022e+05\n",
      "Df Residuals:                   21992   BIC:                         1.023e+05\n",
      "Df Model:                           7                                         \n",
      "Covariance Type:            nonrobust                                         \n",
      "=================================================================================\n",
      "                    coef    std err          t      P>|t|      [0.025      0.975]\n",
      "---------------------------------------------------------------------------------\n",
      "Intercept        54.6528      0.017   3281.093      0.000      54.620      54.685\n",
      "Shops            45.1740      0.401    112.741      0.000      44.389      45.959\n",
      "ATMs             -3.7163      0.034   -108.510      0.000      -3.783      -3.649\n",
      "Downtown        -16.5744      0.401    -41.335      0.000     -17.360     -15.788\n",
      "Weekday          -0.8997      0.034    -26.733      0.000      -0.966      -0.834\n",
      "High              0.4389      0.017     26.346      0.000       0.406       0.472\n",
      "Center            2.1831      0.017    131.047      0.000       2.150       2.216\n",
      "Shops_Weekday    -0.9979      0.043    -23.330      0.000      -1.082      -0.914\n",
      "==============================================================================\n",
      "Omnibus:                    16925.076   Durbin-Watson:                   2.000\n",
      "Prob(Omnibus):                  0.000   Jarque-Bera (JB):           405932.966\n",
      "Skew:                           3.552   Prob(JB):                         0.00\n",
      "Kurtosis:                      22.808   Cond. No.                         62.0\n",
      "==============================================================================\n",
      "\n",
      "Notes:\n",
      "[1] Standard Errors assume that the covariance matrix of the errors is correctly specified.\n"
     ]
    }
   ],
   "source": [
    "formula = \"Withdraw ~ Shops + ATMs + Downtown + Weekday + High + Center + Shops_Weekday\"\n",
    "model_formula = smf.ols(formula = formula, data = train)\n",
    "results_formula = model_formula.fit()\n",
    "print(results_formula.summary())"
   ]
  },
  {
   "cell_type": "code",
   "execution_count": 40,
   "metadata": {
    "colab": {
     "base_uri": "https://localhost:8080/"
    },
    "id": "DsMAmDHmj61V",
    "outputId": "8831b175-a07a-446f-850c-8ae4e69b471b"
   },
   "outputs": [
    {
     "name": "stdout",
     "output_type": "stream",
     "text": [
      "Cross validation MSE : 2.366\n"
     ]
    }
   ],
   "source": [
    "response = 'Withdraw'\n",
    "predictors = ['Shops','ATMs','Downtown','Weekday','High','Center','Center_Weekday'] #add more interactions to this\n",
    "cv_rmse = reg_test(predictors, response)*-1 \n",
    "\n",
    "print('Cross validation MSE : {}'.format(cv_rmse.round(4)))"
   ]
  },
  {
   "cell_type": "code",
   "execution_count": 41,
   "metadata": {
    "colab": {
     "base_uri": "https://localhost:8080/"
    },
    "id": "NN5NTeaYADJS",
    "outputId": "ed6f2e08-e3c6-4bf7-ff73-7019eaa29160"
   },
   "outputs": [
    {
     "name": "stdout",
     "output_type": "stream",
     "text": [
      "                            OLS Regression Results                            \n",
      "==============================================================================\n",
      "Dep. Variable:               Withdraw   R-squared:                       0.996\n",
      "Model:                            OLS   Adj. R-squared:                  0.996\n",
      "Method:                 Least Squares   F-statistic:                 8.354e+05\n",
      "Date:                Fri, 12 Nov 2021   Prob (F-statistic):               0.00\n",
      "Time:                        22:18:39   Log-Likelihood:                -40663.\n",
      "No. Observations:               22000   AIC:                         8.134e+04\n",
      "Df Residuals:                   21992   BIC:                         8.141e+04\n",
      "Df Model:                           7                                         \n",
      "Covariance Type:            nonrobust                                         \n",
      "==================================================================================\n",
      "                     coef    std err          t      P>|t|      [0.025      0.975]\n",
      "----------------------------------------------------------------------------------\n",
      "Intercept         54.6528      0.010   5275.538      0.000      54.633      54.673\n",
      "Shops             44.6509      0.249    179.587      0.000      44.164      45.138\n",
      "ATMs              -3.6861      0.021   -173.055      0.000      -3.728      -3.644\n",
      "Downtown         -16.6754      0.249    -66.867      0.000     -17.164     -16.187\n",
      "Weekday           -0.9081      0.011    -82.942      0.000      -0.930      -0.887\n",
      "High               0.4484      0.010     43.279      0.000       0.428       0.469\n",
      "Center             5.2362      0.019    274.204      0.000       5.199       5.274\n",
      "Center_Weekday    -3.6946      0.019   -190.445      0.000      -3.733      -3.657\n",
      "==============================================================================\n",
      "Omnibus:                    17916.178   Durbin-Watson:                   2.013\n",
      "Prob(Omnibus):                  0.000   Jarque-Bera (JB):          1213351.557\n",
      "Skew:                          -3.457   Prob(JB):                         0.00\n",
      "Kurtosis:                      38.719   Cond. No.                         57.2\n",
      "==============================================================================\n",
      "\n",
      "Notes:\n",
      "[1] Standard Errors assume that the covariance matrix of the errors is correctly specified.\n"
     ]
    }
   ],
   "source": [
    "formula = \"Withdraw ~ Shops + ATMs + Downtown + Weekday + High + Center + Center_Weekday\"\n",
    "model_formula = smf.ols(formula = formula, data = train)\n",
    "results_formula = model_formula.fit()\n",
    "print(results_formula.summary())"
   ]
  },
  {
   "cell_type": "code",
   "execution_count": 42,
   "metadata": {
    "colab": {
     "base_uri": "https://localhost:8080/"
    },
    "id": "IS6w_5KTkIOv",
    "outputId": "043a7acd-ed41-4958-fc69-c6ba0cfdb0b1"
   },
   "outputs": [
    {
     "name": "stdout",
     "output_type": "stream",
     "text": [
      "Cross validation MSE : 0.3108\n"
     ]
    }
   ],
   "source": [
    "response = 'Withdraw'\n",
    "predictors = ['Shops','ATMs','Weekday','Downtown','High','Center','Center_Weekday','Shops_Center','Shops_Weekday','Center_Weekday_Shops'] #add more interactions to this\n",
    "cv_rmse = reg_test(predictors, response)* -1 \n",
    "print('Cross validation MSE : {}'.format(cv_rmse.round(4)))"
   ]
  },
  {
   "cell_type": "code",
   "execution_count": 43,
   "metadata": {
    "colab": {
     "base_uri": "https://localhost:8080/"
    },
    "id": "q-b2zSDR-RNd",
    "outputId": "979bc0ec-6510-43bc-f0b8-1b69a9f995d0"
   },
   "outputs": [
    {
     "name": "stdout",
     "output_type": "stream",
     "text": [
      "                            OLS Regression Results                            \n",
      "==============================================================================\n",
      "Dep. Variable:               Withdraw   R-squared:                       1.000\n",
      "Model:                            OLS   Adj. R-squared:                  1.000\n",
      "Method:                 Least Squares   F-statistic:                 4.460e+06\n",
      "Date:                Fri, 12 Nov 2021   Prob (F-statistic):               0.00\n",
      "Time:                        22:18:39   Log-Likelihood:                -18348.\n",
      "No. Observations:               22000   AIC:                         3.672e+04\n",
      "Df Residuals:                   21989   BIC:                         3.681e+04\n",
      "Df Model:                          10                                         \n",
      "Covariance Type:            nonrobust                                         \n",
      "========================================================================================\n",
      "                           coef    std err          t      P>|t|      [0.025      0.975]\n",
      "----------------------------------------------------------------------------------------\n",
      "Intercept               54.6528      0.004   1.45e+04      0.000      54.645      54.660\n",
      "Shops                   44.3420      0.090    490.397      0.000      44.165      44.519\n",
      "ATMs                    -3.6750      0.008   -475.688      0.000      -3.690      -3.660\n",
      "Weekday                 -0.9140      0.008   -113.805      0.000      -0.930      -0.898\n",
      "Downtown               -16.6435      0.090   -184.014      0.000     -16.821     -16.466\n",
      "High                     0.4585      0.004    122.009      0.000       0.451       0.466\n",
      "Center                   0.9070      0.014     66.134      0.000       0.880       0.934\n",
      "Center_Weekday          -0.0087      0.014     -0.618      0.537      -0.036       0.019\n",
      "Shops_Center             5.1555      0.014    366.123      0.000       5.128       5.183\n",
      "Shops_Weekday            0.0130      0.010      1.279      0.201      -0.007       0.033\n",
      "Center_Weekday_Shops    -4.3939      0.014   -304.672      0.000      -4.422      -4.366\n",
      "==============================================================================\n",
      "Omnibus:                       44.769   Durbin-Watson:                   1.989\n",
      "Prob(Omnibus):                  0.000   Jarque-Bera (JB):               55.529\n",
      "Skew:                           0.013   Prob(JB):                     8.75e-13\n",
      "Kurtosis:                       3.245   Cond. No.                         65.6\n",
      "==============================================================================\n",
      "\n",
      "Notes:\n",
      "[1] Standard Errors assume that the covariance matrix of the errors is correctly specified.\n"
     ]
    }
   ],
   "source": [
    "formula = \"Withdraw ~ Shops+ATMs+Weekday+Downtown+High+Center+Center_Weekday+Shops_Center+Shops_Weekday+Center_Weekday_Shops\"\n",
    "model_formula = smf.ols(formula = formula, data = train)\n",
    "results_formula = model_formula.fit()\n",
    "print(results_formula.summary())\n"
   ]
  },
  {
   "cell_type": "code",
   "execution_count": 44,
   "metadata": {
    "colab": {
     "base_uri": "https://localhost:8080/"
    },
    "id": "Xgs3heZnPsks",
    "outputId": "f28feee7-e844-4a44-f732-b2be1d501053"
   },
   "outputs": [
    {
     "name": "stdout",
     "output_type": "stream",
     "text": [
      "Cross validation MSE : 0.9994\n"
     ]
    }
   ],
   "source": [
    "response = 'Withdraw'\n",
    "predictors = ['Shops','ATMs','Weekday','Center','Center_Weekday','Shops_Center','Shops_Weekday','Center_Weekday_Shops'] #add more interactions to this\n",
    "cv_rmse = reg_test(predictors, response)* -1 \n",
    "print('Cross validation MSE : {}'.format(cv_rmse.round(4)))"
   ]
  },
  {
   "cell_type": "code",
   "execution_count": 45,
   "metadata": {
    "colab": {
     "base_uri": "https://localhost:8080/"
    },
    "id": "1zQ0xbgFA1I-",
    "outputId": "d255f45f-9d7e-424a-f1e4-150d37a75eeb"
   },
   "outputs": [
    {
     "name": "stdout",
     "output_type": "stream",
     "text": [
      "                            OLS Regression Results                            \n",
      "==============================================================================\n",
      "Dep. Variable:               Withdraw   R-squared:                       1.000\n",
      "Model:                            OLS   Adj. R-squared:                  1.000\n",
      "Method:                 Least Squares   F-statistic:                 4.460e+06\n",
      "Date:                Fri, 12 Nov 2021   Prob (F-statistic):               0.00\n",
      "Time:                        22:18:39   Log-Likelihood:                -18348.\n",
      "No. Observations:               22000   AIC:                         3.672e+04\n",
      "Df Residuals:                   21989   BIC:                         3.681e+04\n",
      "Df Model:                          10                                         \n",
      "Covariance Type:            nonrobust                                         \n",
      "========================================================================================\n",
      "                           coef    std err          t      P>|t|      [0.025      0.975]\n",
      "----------------------------------------------------------------------------------------\n",
      "Intercept               54.6528      0.004   1.45e+04      0.000      54.645      54.660\n",
      "Shops                   44.3420      0.090    490.397      0.000      44.165      44.519\n",
      "ATMs                    -3.6750      0.008   -475.688      0.000      -3.690      -3.660\n",
      "Weekday                 -0.9140      0.008   -113.805      0.000      -0.930      -0.898\n",
      "Downtown               -16.6435      0.090   -184.014      0.000     -16.821     -16.466\n",
      "High                     0.4585      0.004    122.009      0.000       0.451       0.466\n",
      "Center                   0.9070      0.014     66.134      0.000       0.880       0.934\n",
      "Center_Weekday          -0.0087      0.014     -0.618      0.537      -0.036       0.019\n",
      "Shops_Center             5.1555      0.014    366.123      0.000       5.128       5.183\n",
      "Shops_Weekday            0.0130      0.010      1.279      0.201      -0.007       0.033\n",
      "Center_Weekday_Shops    -4.3939      0.014   -304.672      0.000      -4.422      -4.366\n",
      "==============================================================================\n",
      "Omnibus:                       44.769   Durbin-Watson:                   1.989\n",
      "Prob(Omnibus):                  0.000   Jarque-Bera (JB):               55.529\n",
      "Skew:                           0.013   Prob(JB):                     8.75e-13\n",
      "Kurtosis:                       3.245   Cond. No.                         65.6\n",
      "==============================================================================\n",
      "\n",
      "Notes:\n",
      "[1] Standard Errors assume that the covariance matrix of the errors is correctly specified.\n"
     ]
    }
   ],
   "source": [
    "formula = \"Withdraw ~ Shops + ATMs + Weekday + Downtown + High + Center + Center_Weekday + Shops_Center + Shops_Weekday + Center_Weekday_Shops\"\n",
    "model_formula = smf.ols(formula = formula, data = train)\n",
    "results_formula = model_formula.fit()\n",
    "print(results_formula.summary())"
   ]
  },
  {
   "cell_type": "markdown",
   "metadata": {
    "id": "LV3C41Udk4jU"
   },
   "source": [
    "<font color = purple>**From our MLR outputs, we observe that the model with interaction terms Center_Weekday, Shops_Center, Shops_Weekly and Center_Weekday_Shops have the smallest cross validation mean squared error of 0.3108.**</font>"
   ]
  },
  {
   "cell_type": "markdown",
   "metadata": {
    "id": "rdeZm5IAlWK2"
   },
   "source": [
    "# **LASSO Variable Selection, Ridge and Elastic Net Regression**"
   ]
  },
  {
   "cell_type": "markdown",
   "metadata": {
    "id": "oVEqmpAylt0L"
   },
   "source": [
    "The following implementations of ridge, elastic net and LASSO regression will provide us with regression analysis that includes penalty terms."
   ]
  },
  {
   "cell_type": "code",
   "execution_count": 46,
   "metadata": {
    "colab": {
     "base_uri": "https://localhost:8080/",
     "height": 205
    },
    "id": "7zEcxLijlNdf",
    "outputId": "515394b2-30ce-4be4-8dee-f9a45dad7f66"
   },
   "outputs": [
    {
     "data": {
      "text/html": [
       "<div>\n",
       "<style scoped>\n",
       "    .dataframe tbody tr th:only-of-type {\n",
       "        vertical-align: middle;\n",
       "    }\n",
       "\n",
       "    .dataframe tbody tr th {\n",
       "        vertical-align: top;\n",
       "    }\n",
       "\n",
       "    .dataframe thead th {\n",
       "        text-align: right;\n",
       "    }\n",
       "</style>\n",
       "<table border=\"1\" class=\"dataframe\">\n",
       "  <thead>\n",
       "    <tr style=\"text-align: right;\">\n",
       "      <th></th>\n",
       "      <th>Shops</th>\n",
       "      <th>ATMs</th>\n",
       "      <th>Downtown</th>\n",
       "      <th>Weekday</th>\n",
       "      <th>Center</th>\n",
       "      <th>High</th>\n",
       "      <th>Withdraw</th>\n",
       "    </tr>\n",
       "  </thead>\n",
       "  <tbody>\n",
       "    <tr>\n",
       "      <th>0</th>\n",
       "      <td>10.18</td>\n",
       "      <td>10</td>\n",
       "      <td>1</td>\n",
       "      <td>0</td>\n",
       "      <td>0</td>\n",
       "      <td>0</td>\n",
       "      <td>72.750556</td>\n",
       "    </tr>\n",
       "    <tr>\n",
       "      <th>1</th>\n",
       "      <td>9.74</td>\n",
       "      <td>10</td>\n",
       "      <td>1</td>\n",
       "      <td>1</td>\n",
       "      <td>0</td>\n",
       "      <td>0</td>\n",
       "      <td>66.720482</td>\n",
       "    </tr>\n",
       "    <tr>\n",
       "      <th>2</th>\n",
       "      <td>0.96</td>\n",
       "      <td>2</td>\n",
       "      <td>0</td>\n",
       "      <td>0</td>\n",
       "      <td>0</td>\n",
       "      <td>1</td>\n",
       "      <td>19.189516</td>\n",
       "    </tr>\n",
       "    <tr>\n",
       "      <th>3</th>\n",
       "      <td>9.58</td>\n",
       "      <td>9</td>\n",
       "      <td>1</td>\n",
       "      <td>1</td>\n",
       "      <td>0</td>\n",
       "      <td>1</td>\n",
       "      <td>67.388669</td>\n",
       "    </tr>\n",
       "    <tr>\n",
       "      <th>4</th>\n",
       "      <td>1.03</td>\n",
       "      <td>4</td>\n",
       "      <td>0</td>\n",
       "      <td>1</td>\n",
       "      <td>0</td>\n",
       "      <td>1</td>\n",
       "      <td>15.813127</td>\n",
       "    </tr>\n",
       "  </tbody>\n",
       "</table>\n",
       "</div>"
      ],
      "text/plain": [
       "   Shops  ATMs  Downtown  Weekday  Center  High   Withdraw\n",
       "0  10.18    10         1        0       0     0  72.750556\n",
       "1   9.74    10         1        1       0     0  66.720482\n",
       "2   0.96     2         0        0       0     1  19.189516\n",
       "3   9.58     9         1        1       0     1  67.388669\n",
       "4   1.03     4         0        1       0     1  15.813127"
      ]
     },
     "execution_count": 46,
     "metadata": {},
     "output_type": "execute_result"
    }
   ],
   "source": [
    "train = pd.read_csv('ATM_training.csv')\n",
    "train.head()"
   ]
  },
  {
   "cell_type": "code",
   "execution_count": 47,
   "metadata": {
    "id": "iHft6oP4lYVr"
   },
   "outputs": [],
   "source": [
    "# We see that Downtown, Weekday, Center and High are dummy variables \n",
    "# The objective is to find the best subset of predictors for explaining and predicting Withdraw"
   ]
  },
  {
   "cell_type": "code",
   "execution_count": 48,
   "metadata": {
    "colab": {
     "base_uri": "https://localhost:8080/"
    },
    "id": "dGrhfG2-mw_x",
    "outputId": "e876b3dd-ea57-4033-f67a-b574ffadf3ff"
   },
   "outputs": [
    {
     "name": "stdout",
     "output_type": "stream",
     "text": [
      "Shops       7.316373\n",
      "ATMs        7.937455\n",
      "Downtown    0.702000\n",
      "Weekday     0.714091\n",
      "Center      0.102455\n",
      "High        0.301591\n",
      "dtype: float64\n",
      "Shops       4.118692\n",
      "ATMs        3.673415\n",
      "Downtown    0.457390\n",
      "Weekday     0.451857\n",
      "Center      0.303252\n",
      "High        0.458959\n",
      "dtype: float64\n"
     ]
    }
   ],
   "source": [
    "# Standardising the predictors \n",
    "response = ['Withdraw']\n",
    "numerical_predictors = ['Shops','ATMs', 'Downtown', 'Weekday', 'Center', 'High']\n",
    "predictors = [x for x in list(train.columns) if x not in response]\n",
    "\n",
    "mu = train[numerical_predictors].mean()\n",
    "print(mu)\n",
    "\n",
    "sigma = train[numerical_predictors].std()\n",
    "print(sigma)"
   ]
  },
  {
   "cell_type": "code",
   "execution_count": 49,
   "metadata": {
    "colab": {
     "base_uri": "https://localhost:8080/"
    },
    "id": "fvnV-4Z5m1jP",
    "outputId": "44e0d1ba-42c0-42d7-a4c7-97d1141b9d17"
   },
   "outputs": [
    {
     "data": {
      "text/plain": [
       "Shops       7.316373\n",
       "ATMs        7.937455\n",
       "Downtown    0.702000\n",
       "Weekday     0.714091\n",
       "Center      0.102455\n",
       "dtype: float64"
      ]
     },
     "execution_count": 49,
     "metadata": {},
     "output_type": "execute_result"
    }
   ],
   "source": [
    "mu.head()"
   ]
  },
  {
   "cell_type": "code",
   "execution_count": 50,
   "metadata": {
    "colab": {
     "base_uri": "https://localhost:8080/"
    },
    "id": "6926bZ8Tm6jd",
    "outputId": "52f4dfe6-60bc-4d60-8ef5-efe794d1d305"
   },
   "outputs": [
    {
     "data": {
      "text/plain": [
       "Shops       4.118692\n",
       "ATMs        3.673415\n",
       "Downtown    0.457390\n",
       "Weekday     0.451857\n",
       "Center      0.303252\n",
       "dtype: float64"
      ]
     },
     "execution_count": 50,
     "metadata": {},
     "output_type": "execute_result"
    }
   ],
   "source": [
    "sigma.head()"
   ]
  },
  {
   "cell_type": "code",
   "execution_count": 51,
   "metadata": {
    "colab": {
     "base_uri": "https://localhost:8080/"
    },
    "id": "a3uGZsU_m7eH",
    "outputId": "67cd0e5a-b580-4b25-debd-0a5c8e135cd2"
   },
   "outputs": [
    {
     "data": {
      "text/plain": [
       "Shops       9.689219e-17\n",
       "ATMs        5.732788e-17\n",
       "Downtown    1.466302e-16\n",
       "Weekday    -4.586230e-17\n",
       "Center     -1.033517e-17\n",
       "dtype: float64"
      ]
     },
     "execution_count": 51,
     "metadata": {},
     "output_type": "execute_result"
    }
   ],
   "source": [
    "train[numerical_predictors] = (train[numerical_predictors]-mu)/sigma \n",
    "train[numerical_predictors].mean().head()"
   ]
  },
  {
   "cell_type": "code",
   "execution_count": 52,
   "metadata": {
    "colab": {
     "base_uri": "https://localhost:8080/"
    },
    "id": "rnjl6QhTm8sS",
    "outputId": "ac33bc4c-abe4-4a39-addb-48aec5a7488a"
   },
   "outputs": [
    {
     "name": "stdout",
     "output_type": "stream",
     "text": [
      "Shops       1.0\n",
      "ATMs        1.0\n",
      "Downtown    1.0\n",
      "Weekday     1.0\n",
      "Center      1.0\n",
      "dtype: float64\n"
     ]
    },
    {
     "data": {
      "text/plain": [
       "ATMs        1.0\n",
       "Downtown    1.0\n",
       "Weekday     1.0\n",
       "Center      1.0\n",
       "High        1.0\n",
       "dtype: float64"
      ]
     },
     "execution_count": 52,
     "metadata": {},
     "output_type": "execute_result"
    }
   ],
   "source": [
    "print(train[numerical_predictors].std().head())\n",
    "train[numerical_predictors].std().tail()"
   ]
  },
  {
   "cell_type": "markdown",
   "metadata": {
    "id": "lYyJ3RqxnKTR"
   },
   "source": [
    "# **LASSO Variable Selection**"
   ]
  },
  {
   "cell_type": "markdown",
   "metadata": {
    "id": "nAPcpOKJnM2F"
   },
   "source": [
    "Let's find the LASSO variable selection coefficients with the shrinkage parameter alpha (lambda) = 1. If the predictors data X have not been standardised, we cannot set normalise = True, then X will be standardised before LASSO regression "
   ]
  },
  {
   "cell_type": "code",
   "execution_count": 53,
   "metadata": {
    "colab": {
     "base_uri": "https://localhost:8080/",
     "height": 80
    },
    "id": "2ITRgRJdnLr-",
    "outputId": "b3349a80-3deb-4ccd-fe9f-c201c73da977"
   },
   "outputs": [
    {
     "data": {
      "text/html": [
       "<div>\n",
       "<style scoped>\n",
       "    .dataframe tbody tr th:only-of-type {\n",
       "        vertical-align: middle;\n",
       "    }\n",
       "\n",
       "    .dataframe tbody tr th {\n",
       "        vertical-align: top;\n",
       "    }\n",
       "\n",
       "    .dataframe thead th {\n",
       "        text-align: right;\n",
       "    }\n",
       "</style>\n",
       "<table border=\"1\" class=\"dataframe\">\n",
       "  <thead>\n",
       "    <tr style=\"text-align: right;\">\n",
       "      <th></th>\n",
       "      <th>Shops</th>\n",
       "      <th>ATMs</th>\n",
       "      <th>Downtown</th>\n",
       "      <th>Weekday</th>\n",
       "      <th>Center</th>\n",
       "      <th>High</th>\n",
       "    </tr>\n",
       "  </thead>\n",
       "  <tbody>\n",
       "    <tr>\n",
       "      <th>0</th>\n",
       "      <td>23.7506</td>\n",
       "      <td>-0.0</td>\n",
       "      <td>0.0</td>\n",
       "      <td>-0.5672</td>\n",
       "      <td>1.2072</td>\n",
       "      <td>0.0</td>\n",
       "    </tr>\n",
       "  </tbody>\n",
       "</table>\n",
       "</div>"
      ],
      "text/plain": [
       "     Shops  ATMs  Downtown  Weekday  Center  High\n",
       "0  23.7506  -0.0       0.0  -0.5672  1.2072   0.0"
      ]
     },
     "execution_count": 53,
     "metadata": {},
     "output_type": "execute_result"
    }
   ],
   "source": [
    "from sklearn import linear_model \n",
    "Lasso_reg = linear_model.Lasso(alpha = 1) \n",
    "Lasso_reg.fit(train[predictors], np.ravel(train[response]))\n",
    "pd.DataFrame(Lasso_reg.coef_.round(4), index = predictors).T"
   ]
  },
  {
   "cell_type": "code",
   "execution_count": 54,
   "metadata": {
    "id": "Tv7cP_zjnWqu"
   },
   "outputs": [],
   "source": [
    "# The last LASSO variable selection model consisted of alpha = 1, now we will do alpha = 10"
   ]
  },
  {
   "cell_type": "code",
   "execution_count": 55,
   "metadata": {
    "colab": {
     "base_uri": "https://localhost:8080/",
     "height": 80
    },
    "id": "FOoTbb1YnZVE",
    "outputId": "8ce78782-7845-4358-87c3-b5c0a03b8208"
   },
   "outputs": [
    {
     "data": {
      "text/html": [
       "<div>\n",
       "<style scoped>\n",
       "    .dataframe tbody tr th:only-of-type {\n",
       "        vertical-align: middle;\n",
       "    }\n",
       "\n",
       "    .dataframe tbody tr th {\n",
       "        vertical-align: top;\n",
       "    }\n",
       "\n",
       "    .dataframe thead th {\n",
       "        text-align: right;\n",
       "    }\n",
       "</style>\n",
       "<table border=\"1\" class=\"dataframe\">\n",
       "  <thead>\n",
       "    <tr style=\"text-align: right;\">\n",
       "      <th></th>\n",
       "      <th>Shops</th>\n",
       "      <th>ATMs</th>\n",
       "      <th>Downtown</th>\n",
       "      <th>Weekday</th>\n",
       "      <th>Center</th>\n",
       "      <th>High</th>\n",
       "    </tr>\n",
       "  </thead>\n",
       "  <tbody>\n",
       "    <tr>\n",
       "      <th>0</th>\n",
       "      <td>14.7428</td>\n",
       "      <td>0.0</td>\n",
       "      <td>0.0</td>\n",
       "      <td>-0.0</td>\n",
       "      <td>0.0</td>\n",
       "      <td>0.0</td>\n",
       "    </tr>\n",
       "  </tbody>\n",
       "</table>\n",
       "</div>"
      ],
      "text/plain": [
       "     Shops  ATMs  Downtown  Weekday  Center  High\n",
       "0  14.7428   0.0       0.0     -0.0     0.0   0.0"
      ]
     },
     "execution_count": 55,
     "metadata": {},
     "output_type": "execute_result"
    }
   ],
   "source": [
    "from sklearn import linear_model \n",
    "Lasso_reg = linear_model.Lasso(alpha=10)\n",
    "Lasso_reg.fit(train[predictors], np.ravel(train[response]))\n",
    "pd.DataFrame(Lasso_reg.coef_.round(4), index = predictors).T"
   ]
  },
  {
   "cell_type": "code",
   "execution_count": 56,
   "metadata": {
    "id": "jUbL7HqNnaSs"
   },
   "outputs": [],
   "source": [
    "# When alpha = 1, ATMs, Downtown and High are removed. \n",
    "# When alpha = 10, ATMs, Downtown, Weeday, Center and High are removed. "
   ]
  },
  {
   "cell_type": "markdown",
   "metadata": {
    "id": "YuTqABZtndWs"
   },
   "source": [
    "Now looking at the LassoCV method, it will be used for model selection for the tuning parameter"
   ]
  },
  {
   "cell_type": "code",
   "execution_count": 57,
   "metadata": {
    "colab": {
     "base_uri": "https://localhost:8080/"
    },
    "id": "iXaHa9DPnb9C",
    "outputId": "dc0473c7-5e82-4a53-df76-28cf25aa0b59"
   },
   "outputs": [
    {
     "data": {
      "text/plain": [
       "LassoCV(cv=5)"
      ]
     },
     "execution_count": 57,
     "metadata": {},
     "output_type": "execute_result"
    }
   ],
   "source": [
    "# Cross validation which will be used to determine the alpha (lambda) value \n",
    "from sklearn.linear_model import LassoCV\n",
    "\n",
    "lasso = LassoCV(cv=5) \n",
    "lasso.fit(train[predictors], np.ravel(train[response]))"
   ]
  },
  {
   "cell_type": "code",
   "execution_count": 58,
   "metadata": {
    "colab": {
     "base_uri": "https://localhost:8080/"
    },
    "id": "IOp5yfMEni8l",
    "outputId": "afdfe8ab-5767-4324-f937-90a85bbc89a5"
   },
   "outputs": [
    {
     "name": "stdout",
     "output_type": "stream",
     "text": [
      "Optimal LASSO Lambda: 0.02474215837362939\n"
     ]
    }
   ],
   "source": [
    "print(\"Optimal LASSO Lambda: {0}\".format(lasso.alpha_))"
   ]
  },
  {
   "cell_type": "code",
   "execution_count": 59,
   "metadata": {
    "colab": {
     "base_uri": "https://localhost:8080/",
     "height": 80
    },
    "id": "5ygAE51cnkNH",
    "outputId": "c964ce7b-8776-4771-b44c-7d2e80674b1f"
   },
   "outputs": [
    {
     "data": {
      "text/html": [
       "<div>\n",
       "<style scoped>\n",
       "    .dataframe tbody tr th:only-of-type {\n",
       "        vertical-align: middle;\n",
       "    }\n",
       "\n",
       "    .dataframe tbody tr th {\n",
       "        vertical-align: top;\n",
       "    }\n",
       "\n",
       "    .dataframe thead th {\n",
       "        text-align: right;\n",
       "    }\n",
       "</style>\n",
       "<table border=\"1\" class=\"dataframe\">\n",
       "  <thead>\n",
       "    <tr style=\"text-align: right;\">\n",
       "      <th></th>\n",
       "      <th>Shops</th>\n",
       "      <th>ATMs</th>\n",
       "      <th>Downtown</th>\n",
       "      <th>Weekday</th>\n",
       "      <th>Center</th>\n",
       "      <th>High</th>\n",
       "    </tr>\n",
       "  </thead>\n",
       "  <tbody>\n",
       "    <tr>\n",
       "      <th>0</th>\n",
       "      <td>27.9023</td>\n",
       "      <td>-3.6249</td>\n",
       "      <td>-0.0</td>\n",
       "      <td>-1.5515</td>\n",
       "      <td>2.1591</td>\n",
       "      <td>0.4157</td>\n",
       "    </tr>\n",
       "  </tbody>\n",
       "</table>\n",
       "</div>"
      ],
      "text/plain": [
       "     Shops    ATMs  Downtown  Weekday  Center    High\n",
       "0  27.9023 -3.6249      -0.0  -1.5515  2.1591  0.4157"
      ]
     },
     "execution_count": 59,
     "metadata": {},
     "output_type": "execute_result"
    }
   ],
   "source": [
    "pd.DataFrame(lasso.coef_.round(4), index = predictors).T"
   ]
  },
  {
   "cell_type": "code",
   "execution_count": 60,
   "metadata": {
    "id": "qLRWNz9knlNL"
   },
   "outputs": [],
   "source": [
    "# It looks like based on the optimal alpha value, Downtown variable should be removed"
   ]
  },
  {
   "cell_type": "markdown",
   "metadata": {
    "id": "EywQdP8AnnVV"
   },
   "source": [
    "#**Ridge and Elastic Net Regression**\n"
   ]
  },
  {
   "cell_type": "markdown",
   "metadata": {
    "id": "Xg0F9DFJnz4Y"
   },
   "source": [
    "RidgeCV and ElasticNetCV have the same parameter. \n",
    "The process is similar for ridge regression, except that we need to manually specify a grid on penalty values (called alpha by the package). The default alphas in the package only contain (0.1, 1.0, 10.0)"
   ]
  },
  {
   "cell_type": "code",
   "execution_count": 61,
   "metadata": {
    "colab": {
     "base_uri": "https://localhost:8080/"
    },
    "id": "I0PpIPGXnmBl",
    "outputId": "24e54bd6-757a-430d-e431-5df773c70b74"
   },
   "outputs": [
    {
     "data": {
      "text/plain": [
       "RidgeCV(alphas=array([4.53999298e-05, 4.82131015e-05, 5.12005892e-05, 5.43731942e-05,\n",
       "       5.77423873e-05, 6.13203499e-05, 6.51200182e-05, 6.91551300e-05,\n",
       "       7.34402743e-05, 7.79909444e-05, 8.28235932e-05, 8.79556934e-05,\n",
       "       9.34058002e-05, 9.91936187e-05, 1.05340075e-04, 1.11867391e-04,\n",
       "       1.18799168e-04, 1.26160467e-04, 1.33977903e-04, 1.42279741e-04,\n",
       "       1.51095996e-04, 1.60458543e-0...\n",
       "       1.21720071e+08, 1.29262362e+08, 1.37272005e+08, 1.45777959e+08,\n",
       "       1.54810978e+08, 1.64403721e+08, 1.74590870e+08, 1.85409259e+08,\n",
       "       1.96898001e+08, 2.09098634e+08, 2.22055270e+08, 2.35814754e+08,\n",
       "       2.50426834e+08, 2.65944340e+08, 2.82423376e+08, 2.99923523e+08,\n",
       "       3.18508053e+08, 3.38244159e+08, 3.59203198e+08, 3.81460948e+08,\n",
       "       4.05097881e+08, 4.30199460e+08, 4.56856438e+08, 4.85165195e+08]),\n",
       "        cv=5)"
      ]
     },
     "execution_count": 61,
     "metadata": {},
     "output_type": "execute_result"
    }
   ],
   "source": [
    "from sklearn.linear_model import RidgeCV\n",
    "\n",
    "alphas = np.exp(np.linspace(-10, 20, 500))\n",
    "ridge_cv = RidgeCV(alphas=alphas, cv=5)\n",
    "ridge_cv.fit(train[predictors], np.ravel(train[response]))"
   ]
  },
  {
   "cell_type": "code",
   "execution_count": 62,
   "metadata": {
    "colab": {
     "base_uri": "https://localhost:8080/"
    },
    "id": "8Cf8mukmnu4B",
    "outputId": "891b69c0-f7c9-4f92-bf62-bdb827ab48b8"
   },
   "outputs": [
    {
     "name": "stdout",
     "output_type": "stream",
     "text": [
      "Optimal Ridge Lambda: 4.5399929762484854e-05\n"
     ]
    }
   ],
   "source": [
    "print(\"Optimal Ridge Lambda: {0}\".format(ridge_cv.alpha_))"
   ]
  },
  {
   "cell_type": "markdown",
   "metadata": {
    "id": "juPTow5En850"
   },
   "source": [
    "We store the model as a standard ridge regression object (this will save time for the computing the cross validation results later), using the CV selected regularisation parameter. "
   ]
  },
  {
   "cell_type": "code",
   "execution_count": 63,
   "metadata": {
    "colab": {
     "base_uri": "https://localhost:8080/",
     "height": 80
    },
    "id": "0P8M7anPn0K5",
    "outputId": "c3dcd735-910e-45f2-8c60-e0e60908e9bd"
   },
   "outputs": [
    {
     "data": {
      "text/html": [
       "<div>\n",
       "<style scoped>\n",
       "    .dataframe tbody tr th:only-of-type {\n",
       "        vertical-align: middle;\n",
       "    }\n",
       "\n",
       "    .dataframe tbody tr th {\n",
       "        vertical-align: top;\n",
       "    }\n",
       "\n",
       "    .dataframe thead th {\n",
       "        text-align: right;\n",
       "    }\n",
       "</style>\n",
       "<table border=\"1\" class=\"dataframe\">\n",
       "  <thead>\n",
       "    <tr style=\"text-align: right;\">\n",
       "      <th></th>\n",
       "      <th>Shops</th>\n",
       "      <th>ATMs</th>\n",
       "      <th>Downtown</th>\n",
       "      <th>Weekday</th>\n",
       "      <th>Center</th>\n",
       "      <th>High</th>\n",
       "    </tr>\n",
       "  </thead>\n",
       "  <tbody>\n",
       "    <tr>\n",
       "      <th>0</th>\n",
       "      <td>44.5388</td>\n",
       "      <td>-3.7088</td>\n",
       "      <td>-16.5527</td>\n",
       "      <td>-1.582</td>\n",
       "      <td>2.1813</td>\n",
       "      <td>0.439</td>\n",
       "    </tr>\n",
       "  </tbody>\n",
       "</table>\n",
       "</div>"
      ],
      "text/plain": [
       "     Shops    ATMs  Downtown  Weekday  Center   High\n",
       "0  44.5388 -3.7088  -16.5527   -1.582  2.1813  0.439"
      ]
     },
     "execution_count": 63,
     "metadata": {},
     "output_type": "execute_result"
    }
   ],
   "source": [
    "from sklearn.linear_model import Ridge \n",
    "\n",
    "ridge = Ridge(alpha=ridge_cv.alpha_)\n",
    "ridge.fit(train[predictors], np.ravel(train[response]))\n",
    "pd.DataFrame(ridge.coef_.round(4), index = predictors).T"
   ]
  },
  {
   "cell_type": "markdown",
   "metadata": {
    "id": "V-d4vi1xoA-Q"
   },
   "source": [
    "The procedure for the elastic net is similar, except that in this case we need to specify a grid of values for the weight on the lasso and ridge penalties."
   ]
  },
  {
   "cell_type": "code",
   "execution_count": 64,
   "metadata": {
    "colab": {
     "base_uri": "https://localhost:8080/"
    },
    "id": "w4IPwHG8n_KV",
    "outputId": "b8c8d0f3-38c2-4054-edc0-4c25270e346a"
   },
   "outputs": [
    {
     "name": "stdout",
     "output_type": "stream",
     "text": [
      "0.024992079165282215\n",
      "0.99\n"
     ]
    }
   ],
   "source": [
    "from sklearn.linear_model import ElasticNetCV\n",
    "enet_cv = ElasticNetCV(l1_ratio = [0.01,0.05,0.1,0.2,0.3,0.4,0.5,0.6,0.7,0.8,0.9,0.95,0.99], cv=5)\n",
    "enet_cv.fit(train[predictors], np.ravel(train[response]))\n",
    "print(enet_cv.alpha_)\n",
    "print(enet_cv.l1_ratio_)"
   ]
  },
  {
   "cell_type": "code",
   "execution_count": 65,
   "metadata": {
    "colab": {
     "base_uri": "https://localhost:8080/",
     "height": 80
    },
    "id": "ph_O_v4koDdD",
    "outputId": "1d7d8542-48b7-4611-adea-d9f0404a5d6d"
   },
   "outputs": [
    {
     "data": {
      "text/html": [
       "<div>\n",
       "<style scoped>\n",
       "    .dataframe tbody tr th:only-of-type {\n",
       "        vertical-align: middle;\n",
       "    }\n",
       "\n",
       "    .dataframe tbody tr th {\n",
       "        vertical-align: top;\n",
       "    }\n",
       "\n",
       "    .dataframe thead th {\n",
       "        text-align: right;\n",
       "    }\n",
       "</style>\n",
       "<table border=\"1\" class=\"dataframe\">\n",
       "  <thead>\n",
       "    <tr style=\"text-align: right;\">\n",
       "      <th></th>\n",
       "      <th>Shops</th>\n",
       "      <th>ATMs</th>\n",
       "      <th>Downtown</th>\n",
       "      <th>Weekday</th>\n",
       "      <th>Center</th>\n",
       "      <th>High</th>\n",
       "    </tr>\n",
       "  </thead>\n",
       "  <tbody>\n",
       "    <tr>\n",
       "      <th>0</th>\n",
       "      <td>27.8697</td>\n",
       "      <td>-3.5956</td>\n",
       "      <td>0.0</td>\n",
       "      <td>-1.551</td>\n",
       "      <td>2.1586</td>\n",
       "      <td>0.4158</td>\n",
       "    </tr>\n",
       "  </tbody>\n",
       "</table>\n",
       "</div>"
      ],
      "text/plain": [
       "     Shops    ATMs  Downtown  Weekday  Center    High\n",
       "0  27.8697 -3.5956       0.0   -1.551  2.1586  0.4158"
      ]
     },
     "execution_count": 65,
     "metadata": {},
     "output_type": "execute_result"
    }
   ],
   "source": [
    "from sklearn.linear_model import ElasticNet\n",
    "enet = ElasticNet(alpha = enet_cv.alpha_, l1_ratio = enet_cv.l1_ratio_)\n",
    "enet.fit(train[predictors], np.ravel(train[response]))\n",
    "pd.DataFrame(enet.coef_.round(4), index = predictors).T"
   ]
  },
  {
   "cell_type": "markdown",
   "metadata": {
    "id": "NG44RYh4oICg"
   },
   "source": [
    "# **K-Fold Cross Validation Results**"
   ]
  },
  {
   "cell_type": "code",
   "execution_count": 66,
   "metadata": {
    "id": "Wv2yIz_7oFJV"
   },
   "outputs": [],
   "source": [
    "# We need to use mean-squared error to determine which method cross validation performs best for the training data"
   ]
  },
  {
   "cell_type": "code",
   "execution_count": 67,
   "metadata": {
    "colab": {
     "base_uri": "https://localhost:8080/",
     "height": 245
    },
    "id": "O0kgEq3coLpY",
    "outputId": "eeba966a-2bbb-4c30-ab94-13a43cfad626"
   },
   "outputs": [
    {
     "name": "stdout",
     "output_type": "stream",
     "text": [
      "Ridge : [-6.02137632 -6.42247041 -5.83167153 -6.34865423 -6.58130992 -6.33975292\n",
      " -6.77556629 -6.52652237 -5.73167243 -6.00388196]\n",
      "Lasso : [-6.40426478 -6.85955606 -6.18385697 -6.95768152 -7.13351071 -6.87587065\n",
      " -7.38907144 -6.97248926 -6.21551287 -6.4258923 ]\n",
      "Elastic Net : [-6.4045354  -6.86314082 -6.18600388 -6.96229157 -7.14226848 -6.87861051\n",
      " -7.39575452 -6.97397694 -6.21880339 -6.42592882]\n"
     ]
    },
    {
     "data": {
      "text/html": [
       "<div>\n",
       "<style scoped>\n",
       "    .dataframe tbody tr th:only-of-type {\n",
       "        vertical-align: middle;\n",
       "    }\n",
       "\n",
       "    .dataframe tbody tr th {\n",
       "        vertical-align: top;\n",
       "    }\n",
       "\n",
       "    .dataframe thead th {\n",
       "        text-align: right;\n",
       "    }\n",
       "</style>\n",
       "<table border=\"1\" class=\"dataframe\">\n",
       "  <thead>\n",
       "    <tr style=\"text-align: right;\">\n",
       "      <th></th>\n",
       "      <th>CV MSE</th>\n",
       "    </tr>\n",
       "  </thead>\n",
       "  <tbody>\n",
       "    <tr>\n",
       "      <th>Ridge</th>\n",
       "      <td>6.2583</td>\n",
       "    </tr>\n",
       "    <tr>\n",
       "      <th>Lasso</th>\n",
       "      <td>6.7418</td>\n",
       "    </tr>\n",
       "    <tr>\n",
       "      <th>Elastic Net</th>\n",
       "      <td>6.7451</td>\n",
       "    </tr>\n",
       "  </tbody>\n",
       "</table>\n",
       "</div>"
      ],
      "text/plain": [
       "             CV MSE\n",
       "Ridge        6.2583\n",
       "Lasso        6.7418\n",
       "Elastic Net  6.7451"
      ]
     },
     "execution_count": 67,
     "metadata": {},
     "output_type": "execute_result"
    }
   ],
   "source": [
    "from sklearn.model_selection import KFold\n",
    "from sklearn.model_selection import cross_val_score\n",
    "\n",
    "kf = KFold(10, shuffle = True, random_state = 1) \n",
    "columns = ['CV MSE']\n",
    "rows = ['Ridge', 'Lasso', 'Elastic Net']\n",
    "regressions = [ridge, lasso, enet]\n",
    "results = pd.DataFrame(0.0, columns=columns, index=rows)\n",
    "methods = {k: v for k, v in zip(rows, regressions)}\n",
    "\n",
    "keys = ['Ridge', 'Lasso', 'Elastic Net']\n",
    "for key in keys: \n",
    "  scores = cross_val_score(methods[key], train[predictors], np.ravel(train[response]), cv = kf, scoring = 'neg_mean_squared_error')\n",
    "\n",
    "  print(key, ':', scores)\n",
    "  results.loc[key] = -1*np.mean(scores)\n",
    "results.round(4)\n"
   ]
  },
  {
   "cell_type": "markdown",
   "metadata": {
    "id": "Fxy5W0JcpLtk"
   },
   "source": [
    "<font color = purple>**From here, we discern that the CV MSE of ridge regression is the lowest with 6.2583, compared to Lasso and Elastic Net. Further evaluation of these results are provided in the file Group_DFM_document.**</font>\n",
    "\n",
    "\n"
   ]
  },
  {
   "cell_type": "code",
   "execution_count": null,
   "metadata": {
    "id": "fCDxdaloJC-W"
   },
   "outputs": [],
   "source": []
  }
 ],
 "metadata": {
  "colab": {
   "name": "Group_DFM_implementation.ipynb",
   "provenance": []
  },
  "kernelspec": {
   "display_name": "Python 3 (ipykernel)",
   "language": "python",
   "name": "python3"
  },
  "language_info": {
   "codemirror_mode": {
    "name": "ipython",
    "version": 3
   },
   "file_extension": ".py",
   "mimetype": "text/x-python",
   "name": "python",
   "nbconvert_exporter": "python",
   "pygments_lexer": "ipython3",
   "version": "3.7.11"
  }
 },
 "nbformat": 4,
 "nbformat_minor": 1
}
